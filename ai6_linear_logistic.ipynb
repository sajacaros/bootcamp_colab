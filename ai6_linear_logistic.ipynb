{
  "nbformat": 4,
  "nbformat_minor": 0,
  "metadata": {
    "colab": {
      "provenance": [],
      "mount_file_id": "1lelTIj5teGXWZZWchpiXWGXFlPuZzhjx",
      "authorship_tag": "ABX9TyP+Ind7IWzRlCnKu8ZyvV7l",
      "include_colab_link": true
    },
    "kernelspec": {
      "name": "python3",
      "display_name": "Python 3"
    },
    "language_info": {
      "name": "python"
    }
  },
  "cells": [
    {
      "cell_type": "markdown",
      "metadata": {
        "id": "view-in-github",
        "colab_type": "text"
      },
      "source": [
        "<a href=\"https://colab.research.google.com/github/sajacaros/bootcamp_colab/blob/main/ai6_linear_logistic.ipynb\" target=\"_parent\"><img src=\"https://colab.research.google.com/assets/colab-badge.svg\" alt=\"Open In Colab\"/></a>"
      ]
    },
    {
      "cell_type": "code",
      "execution_count": 1,
      "metadata": {
        "id": "6PtswVouNHgQ"
      },
      "outputs": [],
      "source": [
        "import numpy as np\n",
        "import pandas as pd\n",
        "import matplotlib.pyplot as plt\n",
        "import seaborn as sns"
      ]
    },
    {
      "cell_type": "code",
      "source": [
        "path = '/content/drive/MyDrive/Colab Notebooks/ai6th/data/titanic/'\n",
        "\n",
        "train_path = path + 'train.csv'\n",
        "test_path = path + 'test.csv'\n",
        "submission_path = path + 'gender_submission.csv'"
      ],
      "metadata": {
        "id": "0iroppwMN5h7"
      },
      "execution_count": 2,
      "outputs": []
    },
    {
      "cell_type": "code",
      "source": [
        "train_df = pd.read_csv(train_path)\n",
        "test_df = pd.read_csv(test_path)\n",
        "submission = pd.read_csv(submission_path)"
      ],
      "metadata": {
        "id": "nv4tODjedmwT"
      },
      "execution_count": 3,
      "outputs": []
    },
    {
      "cell_type": "code",
      "source": [
        "# 필수 체크 항목\n",
        "# 1. 결측치 체크\n",
        "# 2. dtype이 Object인 column 찾기\n",
        "# 3. target value distribution 체크"
      ],
      "metadata": {
        "id": "PnBW9jOgdyyb"
      },
      "execution_count": 4,
      "outputs": []
    },
    {
      "cell_type": "code",
      "source": [
        "# 1. 결측치 체크\n",
        "train_df.info()"
      ],
      "metadata": {
        "colab": {
          "base_uri": "https://localhost:8080/"
        },
        "id": "x0kbbs45eVkT",
        "outputId": "87417e0d-ae29-473c-a29c-eb782cba07e7"
      },
      "execution_count": 5,
      "outputs": [
        {
          "output_type": "stream",
          "name": "stdout",
          "text": [
            "<class 'pandas.core.frame.DataFrame'>\n",
            "RangeIndex: 891 entries, 0 to 890\n",
            "Data columns (total 12 columns):\n",
            " #   Column       Non-Null Count  Dtype  \n",
            "---  ------       --------------  -----  \n",
            " 0   PassengerId  891 non-null    int64  \n",
            " 1   Survived     891 non-null    int64  \n",
            " 2   Pclass       891 non-null    int64  \n",
            " 3   Name         891 non-null    object \n",
            " 4   Sex          891 non-null    object \n",
            " 5   Age          714 non-null    float64\n",
            " 6   SibSp        891 non-null    int64  \n",
            " 7   Parch        891 non-null    int64  \n",
            " 8   Ticket       891 non-null    object \n",
            " 9   Fare         891 non-null    float64\n",
            " 10  Cabin        204 non-null    object \n",
            " 11  Embarked     889 non-null    object \n",
            "dtypes: float64(2), int64(5), object(5)\n",
            "memory usage: 83.7+ KB\n"
          ]
        }
      ]
    },
    {
      "cell_type": "code",
      "source": [
        "train_df.isnull().mean()"
      ],
      "metadata": {
        "colab": {
          "base_uri": "https://localhost:8080/"
        },
        "id": "65Jdn18teZ2q",
        "outputId": "e031a51a-b8cc-418d-a474-7a3b307d67b5"
      },
      "execution_count": 6,
      "outputs": [
        {
          "output_type": "execute_result",
          "data": {
            "text/plain": [
              "PassengerId    0.000000\n",
              "Survived       0.000000\n",
              "Pclass         0.000000\n",
              "Name           0.000000\n",
              "Sex            0.000000\n",
              "Age            0.198653\n",
              "SibSp          0.000000\n",
              "Parch          0.000000\n",
              "Ticket         0.000000\n",
              "Fare           0.000000\n",
              "Cabin          0.771044\n",
              "Embarked       0.002245\n",
              "dtype: float64"
            ]
          },
          "metadata": {},
          "execution_count": 6
        }
      ]
    },
    {
      "cell_type": "code",
      "source": [
        "train_df[train_df.isnull().any(axis=1)]"
      ],
      "metadata": {
        "colab": {
          "base_uri": "https://localhost:8080/",
          "height": 843
        },
        "id": "lxwVIJy9ep2H",
        "outputId": "06ff40a2-c36b-4f39-b91f-75f8ee0c7147"
      },
      "execution_count": 7,
      "outputs": [
        {
          "output_type": "execute_result",
          "data": {
            "text/plain": [
              "     PassengerId  Survived  Pclass                                      Name  \\\n",
              "0              1         0       3                   Braund, Mr. Owen Harris   \n",
              "2              3         1       3                    Heikkinen, Miss. Laina   \n",
              "4              5         0       3                  Allen, Mr. William Henry   \n",
              "5              6         0       3                          Moran, Mr. James   \n",
              "7              8         0       3            Palsson, Master. Gosta Leonard   \n",
              "..           ...       ...     ...                                       ...   \n",
              "884          885         0       3                    Sutehall, Mr. Henry Jr   \n",
              "885          886         0       3      Rice, Mrs. William (Margaret Norton)   \n",
              "886          887         0       2                     Montvila, Rev. Juozas   \n",
              "888          889         0       3  Johnston, Miss. Catherine Helen \"Carrie\"   \n",
              "890          891         0       3                       Dooley, Mr. Patrick   \n",
              "\n",
              "        Sex   Age  SibSp  Parch            Ticket     Fare Cabin Embarked  \n",
              "0      male  22.0      1      0         A/5 21171   7.2500   NaN        S  \n",
              "2    female  26.0      0      0  STON/O2. 3101282   7.9250   NaN        S  \n",
              "4      male  35.0      0      0            373450   8.0500   NaN        S  \n",
              "5      male   NaN      0      0            330877   8.4583   NaN        Q  \n",
              "7      male   2.0      3      1            349909  21.0750   NaN        S  \n",
              "..      ...   ...    ...    ...               ...      ...   ...      ...  \n",
              "884    male  25.0      0      0   SOTON/OQ 392076   7.0500   NaN        S  \n",
              "885  female  39.0      0      5            382652  29.1250   NaN        Q  \n",
              "886    male  27.0      0      0            211536  13.0000   NaN        S  \n",
              "888  female   NaN      1      2        W./C. 6607  23.4500   NaN        S  \n",
              "890    male  32.0      0      0            370376   7.7500   NaN        Q  \n",
              "\n",
              "[708 rows x 12 columns]"
            ],
            "text/html": [
              "\n",
              "  <div id=\"df-b4ca4e11-f30d-4286-b00c-4ca7baed7a78\" class=\"colab-df-container\">\n",
              "    <div>\n",
              "<style scoped>\n",
              "    .dataframe tbody tr th:only-of-type {\n",
              "        vertical-align: middle;\n",
              "    }\n",
              "\n",
              "    .dataframe tbody tr th {\n",
              "        vertical-align: top;\n",
              "    }\n",
              "\n",
              "    .dataframe thead th {\n",
              "        text-align: right;\n",
              "    }\n",
              "</style>\n",
              "<table border=\"1\" class=\"dataframe\">\n",
              "  <thead>\n",
              "    <tr style=\"text-align: right;\">\n",
              "      <th></th>\n",
              "      <th>PassengerId</th>\n",
              "      <th>Survived</th>\n",
              "      <th>Pclass</th>\n",
              "      <th>Name</th>\n",
              "      <th>Sex</th>\n",
              "      <th>Age</th>\n",
              "      <th>SibSp</th>\n",
              "      <th>Parch</th>\n",
              "      <th>Ticket</th>\n",
              "      <th>Fare</th>\n",
              "      <th>Cabin</th>\n",
              "      <th>Embarked</th>\n",
              "    </tr>\n",
              "  </thead>\n",
              "  <tbody>\n",
              "    <tr>\n",
              "      <th>0</th>\n",
              "      <td>1</td>\n",
              "      <td>0</td>\n",
              "      <td>3</td>\n",
              "      <td>Braund, Mr. Owen Harris</td>\n",
              "      <td>male</td>\n",
              "      <td>22.0</td>\n",
              "      <td>1</td>\n",
              "      <td>0</td>\n",
              "      <td>A/5 21171</td>\n",
              "      <td>7.2500</td>\n",
              "      <td>NaN</td>\n",
              "      <td>S</td>\n",
              "    </tr>\n",
              "    <tr>\n",
              "      <th>2</th>\n",
              "      <td>3</td>\n",
              "      <td>1</td>\n",
              "      <td>3</td>\n",
              "      <td>Heikkinen, Miss. Laina</td>\n",
              "      <td>female</td>\n",
              "      <td>26.0</td>\n",
              "      <td>0</td>\n",
              "      <td>0</td>\n",
              "      <td>STON/O2. 3101282</td>\n",
              "      <td>7.9250</td>\n",
              "      <td>NaN</td>\n",
              "      <td>S</td>\n",
              "    </tr>\n",
              "    <tr>\n",
              "      <th>4</th>\n",
              "      <td>5</td>\n",
              "      <td>0</td>\n",
              "      <td>3</td>\n",
              "      <td>Allen, Mr. William Henry</td>\n",
              "      <td>male</td>\n",
              "      <td>35.0</td>\n",
              "      <td>0</td>\n",
              "      <td>0</td>\n",
              "      <td>373450</td>\n",
              "      <td>8.0500</td>\n",
              "      <td>NaN</td>\n",
              "      <td>S</td>\n",
              "    </tr>\n",
              "    <tr>\n",
              "      <th>5</th>\n",
              "      <td>6</td>\n",
              "      <td>0</td>\n",
              "      <td>3</td>\n",
              "      <td>Moran, Mr. James</td>\n",
              "      <td>male</td>\n",
              "      <td>NaN</td>\n",
              "      <td>0</td>\n",
              "      <td>0</td>\n",
              "      <td>330877</td>\n",
              "      <td>8.4583</td>\n",
              "      <td>NaN</td>\n",
              "      <td>Q</td>\n",
              "    </tr>\n",
              "    <tr>\n",
              "      <th>7</th>\n",
              "      <td>8</td>\n",
              "      <td>0</td>\n",
              "      <td>3</td>\n",
              "      <td>Palsson, Master. Gosta Leonard</td>\n",
              "      <td>male</td>\n",
              "      <td>2.0</td>\n",
              "      <td>3</td>\n",
              "      <td>1</td>\n",
              "      <td>349909</td>\n",
              "      <td>21.0750</td>\n",
              "      <td>NaN</td>\n",
              "      <td>S</td>\n",
              "    </tr>\n",
              "    <tr>\n",
              "      <th>...</th>\n",
              "      <td>...</td>\n",
              "      <td>...</td>\n",
              "      <td>...</td>\n",
              "      <td>...</td>\n",
              "      <td>...</td>\n",
              "      <td>...</td>\n",
              "      <td>...</td>\n",
              "      <td>...</td>\n",
              "      <td>...</td>\n",
              "      <td>...</td>\n",
              "      <td>...</td>\n",
              "      <td>...</td>\n",
              "    </tr>\n",
              "    <tr>\n",
              "      <th>884</th>\n",
              "      <td>885</td>\n",
              "      <td>0</td>\n",
              "      <td>3</td>\n",
              "      <td>Sutehall, Mr. Henry Jr</td>\n",
              "      <td>male</td>\n",
              "      <td>25.0</td>\n",
              "      <td>0</td>\n",
              "      <td>0</td>\n",
              "      <td>SOTON/OQ 392076</td>\n",
              "      <td>7.0500</td>\n",
              "      <td>NaN</td>\n",
              "      <td>S</td>\n",
              "    </tr>\n",
              "    <tr>\n",
              "      <th>885</th>\n",
              "      <td>886</td>\n",
              "      <td>0</td>\n",
              "      <td>3</td>\n",
              "      <td>Rice, Mrs. William (Margaret Norton)</td>\n",
              "      <td>female</td>\n",
              "      <td>39.0</td>\n",
              "      <td>0</td>\n",
              "      <td>5</td>\n",
              "      <td>382652</td>\n",
              "      <td>29.1250</td>\n",
              "      <td>NaN</td>\n",
              "      <td>Q</td>\n",
              "    </tr>\n",
              "    <tr>\n",
              "      <th>886</th>\n",
              "      <td>887</td>\n",
              "      <td>0</td>\n",
              "      <td>2</td>\n",
              "      <td>Montvila, Rev. Juozas</td>\n",
              "      <td>male</td>\n",
              "      <td>27.0</td>\n",
              "      <td>0</td>\n",
              "      <td>0</td>\n",
              "      <td>211536</td>\n",
              "      <td>13.0000</td>\n",
              "      <td>NaN</td>\n",
              "      <td>S</td>\n",
              "    </tr>\n",
              "    <tr>\n",
              "      <th>888</th>\n",
              "      <td>889</td>\n",
              "      <td>0</td>\n",
              "      <td>3</td>\n",
              "      <td>Johnston, Miss. Catherine Helen \"Carrie\"</td>\n",
              "      <td>female</td>\n",
              "      <td>NaN</td>\n",
              "      <td>1</td>\n",
              "      <td>2</td>\n",
              "      <td>W./C. 6607</td>\n",
              "      <td>23.4500</td>\n",
              "      <td>NaN</td>\n",
              "      <td>S</td>\n",
              "    </tr>\n",
              "    <tr>\n",
              "      <th>890</th>\n",
              "      <td>891</td>\n",
              "      <td>0</td>\n",
              "      <td>3</td>\n",
              "      <td>Dooley, Mr. Patrick</td>\n",
              "      <td>male</td>\n",
              "      <td>32.0</td>\n",
              "      <td>0</td>\n",
              "      <td>0</td>\n",
              "      <td>370376</td>\n",
              "      <td>7.7500</td>\n",
              "      <td>NaN</td>\n",
              "      <td>Q</td>\n",
              "    </tr>\n",
              "  </tbody>\n",
              "</table>\n",
              "<p>708 rows × 12 columns</p>\n",
              "</div>\n",
              "    <div class=\"colab-df-buttons\">\n",
              "\n",
              "  <div class=\"colab-df-container\">\n",
              "    <button class=\"colab-df-convert\" onclick=\"convertToInteractive('df-b4ca4e11-f30d-4286-b00c-4ca7baed7a78')\"\n",
              "            title=\"Convert this dataframe to an interactive table.\"\n",
              "            style=\"display:none;\">\n",
              "\n",
              "  <svg xmlns=\"http://www.w3.org/2000/svg\" height=\"24px\" viewBox=\"0 -960 960 960\">\n",
              "    <path d=\"M120-120v-720h720v720H120Zm60-500h600v-160H180v160Zm220 220h160v-160H400v160Zm0 220h160v-160H400v160ZM180-400h160v-160H180v160Zm440 0h160v-160H620v160ZM180-180h160v-160H180v160Zm440 0h160v-160H620v160Z\"/>\n",
              "  </svg>\n",
              "    </button>\n",
              "\n",
              "  <style>\n",
              "    .colab-df-container {\n",
              "      display:flex;\n",
              "      gap: 12px;\n",
              "    }\n",
              "\n",
              "    .colab-df-convert {\n",
              "      background-color: #E8F0FE;\n",
              "      border: none;\n",
              "      border-radius: 50%;\n",
              "      cursor: pointer;\n",
              "      display: none;\n",
              "      fill: #1967D2;\n",
              "      height: 32px;\n",
              "      padding: 0 0 0 0;\n",
              "      width: 32px;\n",
              "    }\n",
              "\n",
              "    .colab-df-convert:hover {\n",
              "      background-color: #E2EBFA;\n",
              "      box-shadow: 0px 1px 2px rgba(60, 64, 67, 0.3), 0px 1px 3px 1px rgba(60, 64, 67, 0.15);\n",
              "      fill: #174EA6;\n",
              "    }\n",
              "\n",
              "    .colab-df-buttons div {\n",
              "      margin-bottom: 4px;\n",
              "    }\n",
              "\n",
              "    [theme=dark] .colab-df-convert {\n",
              "      background-color: #3B4455;\n",
              "      fill: #D2E3FC;\n",
              "    }\n",
              "\n",
              "    [theme=dark] .colab-df-convert:hover {\n",
              "      background-color: #434B5C;\n",
              "      box-shadow: 0px 1px 3px 1px rgba(0, 0, 0, 0.15);\n",
              "      filter: drop-shadow(0px 1px 2px rgba(0, 0, 0, 0.3));\n",
              "      fill: #FFFFFF;\n",
              "    }\n",
              "  </style>\n",
              "\n",
              "    <script>\n",
              "      const buttonEl =\n",
              "        document.querySelector('#df-b4ca4e11-f30d-4286-b00c-4ca7baed7a78 button.colab-df-convert');\n",
              "      buttonEl.style.display =\n",
              "        google.colab.kernel.accessAllowed ? 'block' : 'none';\n",
              "\n",
              "      async function convertToInteractive(key) {\n",
              "        const element = document.querySelector('#df-b4ca4e11-f30d-4286-b00c-4ca7baed7a78');\n",
              "        const dataTable =\n",
              "          await google.colab.kernel.invokeFunction('convertToInteractive',\n",
              "                                                    [key], {});\n",
              "        if (!dataTable) return;\n",
              "\n",
              "        const docLinkHtml = 'Like what you see? Visit the ' +\n",
              "          '<a target=\"_blank\" href=https://colab.research.google.com/notebooks/data_table.ipynb>data table notebook</a>'\n",
              "          + ' to learn more about interactive tables.';\n",
              "        element.innerHTML = '';\n",
              "        dataTable['output_type'] = 'display_data';\n",
              "        await google.colab.output.renderOutput(dataTable, element);\n",
              "        const docLink = document.createElement('div');\n",
              "        docLink.innerHTML = docLinkHtml;\n",
              "        element.appendChild(docLink);\n",
              "      }\n",
              "    </script>\n",
              "  </div>\n",
              "\n",
              "\n",
              "<div id=\"df-ea359dff-e307-481f-969c-93b8cc15fb4e\">\n",
              "  <button class=\"colab-df-quickchart\" onclick=\"quickchart('df-ea359dff-e307-481f-969c-93b8cc15fb4e')\"\n",
              "            title=\"Suggest charts.\"\n",
              "            style=\"display:none;\">\n",
              "\n",
              "<svg xmlns=\"http://www.w3.org/2000/svg\" height=\"24px\"viewBox=\"0 0 24 24\"\n",
              "     width=\"24px\">\n",
              "    <g>\n",
              "        <path d=\"M19 3H5c-1.1 0-2 .9-2 2v14c0 1.1.9 2 2 2h14c1.1 0 2-.9 2-2V5c0-1.1-.9-2-2-2zM9 17H7v-7h2v7zm4 0h-2V7h2v10zm4 0h-2v-4h2v4z\"/>\n",
              "    </g>\n",
              "</svg>\n",
              "  </button>\n",
              "\n",
              "<style>\n",
              "  .colab-df-quickchart {\n",
              "      --bg-color: #E8F0FE;\n",
              "      --fill-color: #1967D2;\n",
              "      --hover-bg-color: #E2EBFA;\n",
              "      --hover-fill-color: #174EA6;\n",
              "      --disabled-fill-color: #AAA;\n",
              "      --disabled-bg-color: #DDD;\n",
              "  }\n",
              "\n",
              "  [theme=dark] .colab-df-quickchart {\n",
              "      --bg-color: #3B4455;\n",
              "      --fill-color: #D2E3FC;\n",
              "      --hover-bg-color: #434B5C;\n",
              "      --hover-fill-color: #FFFFFF;\n",
              "      --disabled-bg-color: #3B4455;\n",
              "      --disabled-fill-color: #666;\n",
              "  }\n",
              "\n",
              "  .colab-df-quickchart {\n",
              "    background-color: var(--bg-color);\n",
              "    border: none;\n",
              "    border-radius: 50%;\n",
              "    cursor: pointer;\n",
              "    display: none;\n",
              "    fill: var(--fill-color);\n",
              "    height: 32px;\n",
              "    padding: 0;\n",
              "    width: 32px;\n",
              "  }\n",
              "\n",
              "  .colab-df-quickchart:hover {\n",
              "    background-color: var(--hover-bg-color);\n",
              "    box-shadow: 0 1px 2px rgba(60, 64, 67, 0.3), 0 1px 3px 1px rgba(60, 64, 67, 0.15);\n",
              "    fill: var(--button-hover-fill-color);\n",
              "  }\n",
              "\n",
              "  .colab-df-quickchart-complete:disabled,\n",
              "  .colab-df-quickchart-complete:disabled:hover {\n",
              "    background-color: var(--disabled-bg-color);\n",
              "    fill: var(--disabled-fill-color);\n",
              "    box-shadow: none;\n",
              "  }\n",
              "\n",
              "  .colab-df-spinner {\n",
              "    border: 2px solid var(--fill-color);\n",
              "    border-color: transparent;\n",
              "    border-bottom-color: var(--fill-color);\n",
              "    animation:\n",
              "      spin 1s steps(1) infinite;\n",
              "  }\n",
              "\n",
              "  @keyframes spin {\n",
              "    0% {\n",
              "      border-color: transparent;\n",
              "      border-bottom-color: var(--fill-color);\n",
              "      border-left-color: var(--fill-color);\n",
              "    }\n",
              "    20% {\n",
              "      border-color: transparent;\n",
              "      border-left-color: var(--fill-color);\n",
              "      border-top-color: var(--fill-color);\n",
              "    }\n",
              "    30% {\n",
              "      border-color: transparent;\n",
              "      border-left-color: var(--fill-color);\n",
              "      border-top-color: var(--fill-color);\n",
              "      border-right-color: var(--fill-color);\n",
              "    }\n",
              "    40% {\n",
              "      border-color: transparent;\n",
              "      border-right-color: var(--fill-color);\n",
              "      border-top-color: var(--fill-color);\n",
              "    }\n",
              "    60% {\n",
              "      border-color: transparent;\n",
              "      border-right-color: var(--fill-color);\n",
              "    }\n",
              "    80% {\n",
              "      border-color: transparent;\n",
              "      border-right-color: var(--fill-color);\n",
              "      border-bottom-color: var(--fill-color);\n",
              "    }\n",
              "    90% {\n",
              "      border-color: transparent;\n",
              "      border-bottom-color: var(--fill-color);\n",
              "    }\n",
              "  }\n",
              "</style>\n",
              "\n",
              "  <script>\n",
              "    async function quickchart(key) {\n",
              "      const quickchartButtonEl =\n",
              "        document.querySelector('#' + key + ' button');\n",
              "      quickchartButtonEl.disabled = true;  // To prevent multiple clicks.\n",
              "      quickchartButtonEl.classList.add('colab-df-spinner');\n",
              "      try {\n",
              "        const charts = await google.colab.kernel.invokeFunction(\n",
              "            'suggestCharts', [key], {});\n",
              "      } catch (error) {\n",
              "        console.error('Error during call to suggestCharts:', error);\n",
              "      }\n",
              "      quickchartButtonEl.classList.remove('colab-df-spinner');\n",
              "      quickchartButtonEl.classList.add('colab-df-quickchart-complete');\n",
              "    }\n",
              "    (() => {\n",
              "      let quickchartButtonEl =\n",
              "        document.querySelector('#df-ea359dff-e307-481f-969c-93b8cc15fb4e button');\n",
              "      quickchartButtonEl.style.display =\n",
              "        google.colab.kernel.accessAllowed ? 'block' : 'none';\n",
              "    })();\n",
              "  </script>\n",
              "</div>\n",
              "    </div>\n",
              "  </div>\n"
            ]
          },
          "metadata": {},
          "execution_count": 7
        }
      ]
    },
    {
      "cell_type": "code",
      "source": [
        "# 2. dtype이 Object인 column 찾기\n",
        "train_df.columns[train_df.dtypes == 'object']"
      ],
      "metadata": {
        "colab": {
          "base_uri": "https://localhost:8080/"
        },
        "id": "U5pN5Gopetd1",
        "outputId": "478e4976-9b41-40b7-eb2e-39475aae185e"
      },
      "execution_count": 8,
      "outputs": [
        {
          "output_type": "execute_result",
          "data": {
            "text/plain": [
              "Index(['Name', 'Sex', 'Ticket', 'Cabin', 'Embarked'], dtype='object')"
            ]
          },
          "metadata": {},
          "execution_count": 8
        }
      ]
    },
    {
      "cell_type": "code",
      "source": [
        "# 3. target value distribution 체크\n",
        "train_df.Survived.value_counts()"
      ],
      "metadata": {
        "colab": {
          "base_uri": "https://localhost:8080/"
        },
        "id": "Am2t6j21fECv",
        "outputId": "94e36c4a-6cf8-4d74-d01f-562a8c309b84"
      },
      "execution_count": 9,
      "outputs": [
        {
          "output_type": "execute_result",
          "data": {
            "text/plain": [
              "0    549\n",
              "1    342\n",
              "Name: Survived, dtype: int64"
            ]
          },
          "metadata": {},
          "execution_count": 9
        }
      ]
    },
    {
      "cell_type": "code",
      "source": [
        "sns.countplot(data=train_df, x='Survived')"
      ],
      "metadata": {
        "colab": {
          "base_uri": "https://localhost:8080/",
          "height": 467
        },
        "id": "RBDbcYWTfeBk",
        "outputId": "f3ce0958-4d8b-40f8-e309-e8ba41d4d269"
      },
      "execution_count": 10,
      "outputs": [
        {
          "output_type": "execute_result",
          "data": {
            "text/plain": [
              "<Axes: xlabel='Survived', ylabel='count'>"
            ]
          },
          "metadata": {},
          "execution_count": 10
        },
        {
          "output_type": "display_data",
          "data": {
            "text/plain": [
              "<Figure size 640x480 with 1 Axes>"
            ],
            "image/png": "[encoded data removed]"
          },
          "metadata": {}
        }
      ]
    },
    {
      "cell_type": "code",
      "source": [
        "sns.boxplot(data=train_df, y='Fare')"
      ],
      "metadata": {
        "colab": {
          "base_uri": "https://localhost:8080/",
          "height": 429
        },
        "id": "2Jzn2njaLoZg",
        "outputId": "516f03c8-f7cd-4f53-b972-091d84cc6f5e"
      },
      "execution_count": 11,
      "outputs": [
        {
          "output_type": "execute_result",
          "data": {
            "text/plain": [
              "<Axes: ylabel='Fare'>"
            ]
          },
          "metadata": {},
          "execution_count": 11
        },
        {
          "output_type": "display_data",
          "data": {
            "text/plain": [
              "<Figure size 640x480 with 1 Axes>"
            ],
            "image/png": "[encoded data removed]"
          },
          "metadata": {}
        }
      ]
    },
    {
      "cell_type": "code",
      "source": [
        "# feature engineering\n",
        "# 머신러닝 모델에 학습하기 전에 앞서서 확인한 데이터에 처리는 반대시 해야함\n",
        "# 결측치는 없어야 하고 object 타입도 없어야 한다."
      ],
      "metadata": {
        "id": "HuOsnlTrfeEZ"
      },
      "execution_count": 12,
      "outputs": []
    },
    {
      "cell_type": "code",
      "source": [
        "# 1. Cabin의 유무가 Survived에 영향이 있는가?\n",
        "# Cabin이 없는 사람들 중 생존 비율\n",
        "train_df[train_df.Cabin.isnull()].Survived.mean()"
      ],
      "metadata": {
        "colab": {
          "base_uri": "https://localhost:8080/"
        },
        "id": "zrw2nJcug3l7",
        "outputId": "9d986c86-44f7-429b-db21-58b01ff4c16a"
      },
      "execution_count": 13,
      "outputs": [
        {
          "output_type": "execute_result",
          "data": {
            "text/plain": [
              "0.29985443959243085"
            ]
          },
          "metadata": {},
          "execution_count": 13
        }
      ]
    },
    {
      "cell_type": "code",
      "source": [
        "# Cabin이 있는 사람들 중 생존 비율\n",
        "train_df[train_df.Cabin.notnull()].Survived.mean()"
      ],
      "metadata": {
        "colab": {
          "base_uri": "https://localhost:8080/"
        },
        "id": "8bPnAUQRg4T7",
        "outputId": "d1166d43-d9bf-4777-c6b4-30d114207bec"
      },
      "execution_count": 14,
      "outputs": [
        {
          "output_type": "execute_result",
          "data": {
            "text/plain": [
              "0.6666666666666666"
            ]
          },
          "metadata": {},
          "execution_count": 14
        }
      ]
    },
    {
      "cell_type": "code",
      "source": [
        "train = train_df.copy()"
      ],
      "metadata": {
        "id": "WBY3VtI3l1OO"
      },
      "execution_count": 15,
      "outputs": []
    },
    {
      "cell_type": "code",
      "source": [
        "# train['IsCabin'] = train.Cabin.notnull()*1\n",
        "train.loc[train.Cabin.notnull(), 'IsCabin'] = 1\n",
        "train.loc[train.Cabin.isnull(), 'IsCabin'] = 0\n",
        "train.IsCabin.mean()"
      ],
      "metadata": {
        "colab": {
          "base_uri": "https://localhost:8080/"
        },
        "id": "67CLGjDzmJtC",
        "outputId": "34d4f21a-48ad-4ad0-9a85-97ed08a59440"
      },
      "execution_count": 16,
      "outputs": [
        {
          "output_type": "execute_result",
          "data": {
            "text/plain": [
              "0.22895622895622897"
            ]
          },
          "metadata": {},
          "execution_count": 16
        }
      ]
    },
    {
      "cell_type": "code",
      "source": [
        "# Family Size feature 만들기\n",
        "train['FamilySize'] = train['SibSp'] + train['Parch']"
      ],
      "metadata": {
        "id": "MnzIkFEkg5ay"
      },
      "execution_count": 17,
      "outputs": []
    },
    {
      "cell_type": "code",
      "source": [
        "# 불필요한 column 제거\n",
        "train = train.drop(columns=['PassengerId', 'Name', 'SibSp', 'Parch', 'Cabin', 'Ticket'])"
      ],
      "metadata": {
        "id": "sKd1kIIig5dY"
      },
      "execution_count": 18,
      "outputs": []
    },
    {
      "cell_type": "code",
      "source": [
        "train.isnull().mean()"
      ],
      "metadata": {
        "colab": {
          "base_uri": "https://localhost:8080/"
        },
        "id": "-r1AW5erg5f-",
        "outputId": "999e8aec-fa95-488e-df7b-54e2a5e85c21"
      },
      "execution_count": 19,
      "outputs": [
        {
          "output_type": "execute_result",
          "data": {
            "text/plain": [
              "Survived      0.000000\n",
              "Pclass        0.000000\n",
              "Sex           0.000000\n",
              "Age           0.198653\n",
              "Fare          0.000000\n",
              "Embarked      0.002245\n",
              "IsCabin       0.000000\n",
              "FamilySize    0.000000\n",
              "dtype: float64"
            ]
          },
          "metadata": {},
          "execution_count": 19
        }
      ]
    },
    {
      "cell_type": "code",
      "source": [
        "train.Age.describe()"
      ],
      "metadata": {
        "colab": {
          "base_uri": "https://localhost:8080/"
        },
        "id": "-vDxZvfig5k-",
        "outputId": "770418e7-57df-4ce0-f4b4-872606de2acf"
      },
      "execution_count": 20,
      "outputs": [
        {
          "output_type": "execute_result",
          "data": {
            "text/plain": [
              "count    714.000000\n",
              "mean      29.699118\n",
              "std       14.526497\n",
              "min        0.420000\n",
              "25%       20.125000\n",
              "50%       28.000000\n",
              "75%       38.000000\n",
              "max       80.000000\n",
              "Name: Age, dtype: float64"
            ]
          },
          "metadata": {},
          "execution_count": 20
        }
      ]
    },
    {
      "cell_type": "code",
      "source": [
        "# 결측치 채우기\n",
        "train.Age = train.Age.fillna(train.Age.median())\n",
        "train.Age.describe()"
      ],
      "metadata": {
        "colab": {
          "base_uri": "https://localhost:8080/"
        },
        "id": "pa0aXf-jg5iw",
        "outputId": "458f46b3-e143-43f7-d1c5-7075de8cf3b0"
      },
      "execution_count": 21,
      "outputs": [
        {
          "output_type": "execute_result",
          "data": {
            "text/plain": [
              "count    891.000000\n",
              "mean      29.361582\n",
              "std       13.019697\n",
              "min        0.420000\n",
              "25%       22.000000\n",
              "50%       28.000000\n",
              "75%       35.000000\n",
              "max       80.000000\n",
              "Name: Age, dtype: float64"
            ]
          },
          "metadata": {},
          "execution_count": 21
        }
      ]
    },
    {
      "cell_type": "code",
      "source": [
        "train.info()"
      ],
      "metadata": {
        "colab": {
          "base_uri": "https://localhost:8080/"
        },
        "id": "tYHsOiK5g5nj",
        "outputId": "5c3febee-4e4a-4c1b-edd8-3b3dab1725be"
      },
      "execution_count": 22,
      "outputs": [
        {
          "output_type": "stream",
          "name": "stdout",
          "text": [
            "<class 'pandas.core.frame.DataFrame'>\n",
            "RangeIndex: 891 entries, 0 to 890\n",
            "Data columns (total 8 columns):\n",
            " #   Column      Non-Null Count  Dtype  \n",
            "---  ------      --------------  -----  \n",
            " 0   Survived    891 non-null    int64  \n",
            " 1   Pclass      891 non-null    int64  \n",
            " 2   Sex         891 non-null    object \n",
            " 3   Age         891 non-null    float64\n",
            " 4   Fare        891 non-null    float64\n",
            " 5   Embarked    889 non-null    object \n",
            " 6   IsCabin     891 non-null    float64\n",
            " 7   FamilySize  891 non-null    int64  \n",
            "dtypes: float64(3), int64(3), object(2)\n",
            "memory usage: 55.8+ KB\n"
          ]
        }
      ]
    },
    {
      "cell_type": "code",
      "source": [
        "# 결측행 지우기\n",
        "train = train.dropna()\n",
        "train.info()"
      ],
      "metadata": {
        "colab": {
          "base_uri": "https://localhost:8080/"
        },
        "id": "x8jbaEssg5qK",
        "outputId": "b7368e6e-e802-477e-bf8d-6442bc9a8b6d"
      },
      "execution_count": 23,
      "outputs": [
        {
          "output_type": "stream",
          "name": "stdout",
          "text": [
            "<class 'pandas.core.frame.DataFrame'>\n",
            "Int64Index: 889 entries, 0 to 890\n",
            "Data columns (total 8 columns):\n",
            " #   Column      Non-Null Count  Dtype  \n",
            "---  ------      --------------  -----  \n",
            " 0   Survived    889 non-null    int64  \n",
            " 1   Pclass      889 non-null    int64  \n",
            " 2   Sex         889 non-null    object \n",
            " 3   Age         889 non-null    float64\n",
            " 4   Fare        889 non-null    float64\n",
            " 5   Embarked    889 non-null    object \n",
            " 6   IsCabin     889 non-null    float64\n",
            " 7   FamilySize  889 non-null    int64  \n",
            "dtypes: float64(3), int64(3), object(2)\n",
            "memory usage: 62.5+ KB\n"
          ]
        }
      ]
    },
    {
      "cell_type": "code",
      "source": [
        "# Encoding categorical feature\n",
        "\n",
        "# 1) Ordinal encoding\n",
        "# pd.factorize()\n",
        "\n",
        "# 2) One-hot encoding\n",
        "# pd.get_dummies()"
      ],
      "metadata": {
        "id": "RAqEAj9_feG_"
      },
      "execution_count": 24,
      "outputs": []
    },
    {
      "cell_type": "code",
      "source": [
        "# Ordinal encoding\n",
        "# sort를 안해주면 값이 바뀔수 있음\n",
        "train.Sex = pd.factorize(train.Sex, sort=True)[0] # factorize의 결과는 tuple\n",
        "# train.Sex.map({'female':0, 'male':1})"
      ],
      "metadata": {
        "colab": {
          "base_uri": "https://localhost:8080/"
        },
        "id": "KLAOrcp8feJa",
        "outputId": "0a6c920e-9912-4b8f-be86-affb5da9fd69"
      },
      "execution_count": 25,
      "outputs": [
        {
          "output_type": "stream",
          "name": "stderr",
          "text": [
            "<ipython-input-25-03263eb78f8f>:3: SettingWithCopyWarning: \n",
            "A value is trying to be set on a copy of a slice from a DataFrame.\n",
            "Try using .loc[row_indexer,col_indexer] = value instead\n",
            "\n",
            "See the caveats in the documentation: https://pandas.pydata.org/pandas-docs/stable/user_guide/indexing.html#returning-a-view-versus-a-copy\n",
            "  train.Sex = pd.factorize(train.Sex, sort=True)[0] # factorize의 결과는 tuple\n"
          ]
        }
      ]
    },
    {
      "cell_type": "code",
      "source": [
        "# One-hot encoding\n",
        "train = pd.get_dummies(data=train, columns=['Embarked'])\n",
        "train.head()"
      ],
      "metadata": {
        "colab": {
          "base_uri": "https://localhost:8080/",
          "height": 206
        },
        "id": "XGZUwj1sfeL8",
        "outputId": "91e8dc32-2dd7-4c7a-bf3d-8f240e6d5e36"
      },
      "execution_count": 26,
      "outputs": [
        {
          "output_type": "execute_result",
          "data": {
            "text/plain": [
              "   Survived  Pclass  Sex   Age     Fare  IsCabin  FamilySize  Embarked_C  \\\n",
              "0         0       3    1  22.0   7.2500      0.0           1           0   \n",
              "1         1       1    0  38.0  71.2833      1.0           1           1   \n",
              "2         1       3    0  26.0   7.9250      0.0           0           0   \n",
              "3         1       1    0  35.0  53.1000      1.0           1           0   \n",
              "4         0       3    1  35.0   8.0500      0.0           0           0   \n",
              "\n",
              "   Embarked_Q  Embarked_S  \n",
              "0           0           1  \n",
              "1           0           0  \n",
              "2           0           1  \n",
              "3           0           1  \n",
              "4           0           1  "
            ],
            "text/html": [
              "\n",
              "  <div id=\"df-8c4f0c74-1e2c-49c0-be38-1e2cd7c0cf61\" class=\"colab-df-container\">\n",
              "    <div>\n",
              "<style scoped>\n",
              "    .dataframe tbody tr th:only-of-type {\n",
              "        vertical-align: middle;\n",
              "    }\n",
              "\n",
              "    .dataframe tbody tr th {\n",
              "        vertical-align: top;\n",
              "    }\n",
              "\n",
              "    .dataframe thead th {\n",
              "        text-align: right;\n",
              "    }\n",
              "</style>\n",
              "<table border=\"1\" class=\"dataframe\">\n",
              "  <thead>\n",
              "    <tr style=\"text-align: right;\">\n",
              "      <th></th>\n",
              "      <th>Survived</th>\n",
              "      <th>Pclass</th>\n",
              "      <th>Sex</th>\n",
              "      <th>Age</th>\n",
              "      <th>Fare</th>\n",
              "      <th>IsCabin</th>\n",
              "      <th>FamilySize</th>\n",
              "      <th>Embarked_C</th>\n",
              "      <th>Embarked_Q</th>\n",
              "      <th>Embarked_S</th>\n",
              "    </tr>\n",
              "  </thead>\n",
              "  <tbody>\n",
              "    <tr>\n",
              "      <th>0</th>\n",
              "      <td>0</td>\n",
              "      <td>3</td>\n",
              "      <td>1</td>\n",
              "      <td>22.0</td>\n",
              "      <td>7.2500</td>\n",
              "      <td>0.0</td>\n",
              "      <td>1</td>\n",
              "      <td>0</td>\n",
              "      <td>0</td>\n",
              "      <td>1</td>\n",
              "    </tr>\n",
              "    <tr>\n",
              "      <th>1</th>\n",
              "      <td>1</td>\n",
              "      <td>1</td>\n",
              "      <td>0</td>\n",
              "      <td>38.0</td>\n",
              "      <td>71.2833</td>\n",
              "      <td>1.0</td>\n",
              "      <td>1</td>\n",
              "      <td>1</td>\n",
              "      <td>0</td>\n",
              "      <td>0</td>\n",
              "    </tr>\n",
              "    <tr>\n",
              "      <th>2</th>\n",
              "      <td>1</td>\n",
              "      <td>3</td>\n",
              "      <td>0</td>\n",
              "      <td>26.0</td>\n",
              "      <td>7.9250</td>\n",
              "      <td>0.0</td>\n",
              "      <td>0</td>\n",
              "      <td>0</td>\n",
              "      <td>0</td>\n",
              "      <td>1</td>\n",
              "    </tr>\n",
              "    <tr>\n",
              "      <th>3</th>\n",
              "      <td>1</td>\n",
              "      <td>1</td>\n",
              "      <td>0</td>\n",
              "      <td>35.0</td>\n",
              "      <td>53.1000</td>\n",
              "      <td>1.0</td>\n",
              "      <td>1</td>\n",
              "      <td>0</td>\n",
              "      <td>0</td>\n",
              "      <td>1</td>\n",
              "    </tr>\n",
              "    <tr>\n",
              "      <th>4</th>\n",
              "      <td>0</td>\n",
              "      <td>3</td>\n",
              "      <td>1</td>\n",
              "      <td>35.0</td>\n",
              "      <td>8.0500</td>\n",
              "      <td>0.0</td>\n",
              "      <td>0</td>\n",
              "      <td>0</td>\n",
              "      <td>0</td>\n",
              "      <td>1</td>\n",
              "    </tr>\n",
              "  </tbody>\n",
              "</table>\n",
              "</div>\n",
              "    <div class=\"colab-df-buttons\">\n",
              "\n",
              "  <div class=\"colab-df-container\">\n",
              "    <button class=\"colab-df-convert\" onclick=\"convertToInteractive('df-8c4f0c74-1e2c-49c0-be38-1e2cd7c0cf61')\"\n",
              "            title=\"Convert this dataframe to an interactive table.\"\n",
              "            style=\"display:none;\">\n",
              "\n",
              "  <svg xmlns=\"http://www.w3.org/2000/svg\" height=\"24px\" viewBox=\"0 -960 960 960\">\n",
              "    <path d=\"M120-120v-720h720v720H120Zm60-500h600v-160H180v160Zm220 220h160v-160H400v160Zm0 220h160v-160H400v160ZM180-400h160v-160H180v160Zm440 0h160v-160H620v160ZM180-180h160v-160H180v160Zm440 0h160v-160H620v160Z\"/>\n",
              "  </svg>\n",
              "    </button>\n",
              "\n",
              "  <style>\n",
              "    .colab-df-container {\n",
              "      display:flex;\n",
              "      gap: 12px;\n",
              "    }\n",
              "\n",
              "    .colab-df-convert {\n",
              "      background-color: #E8F0FE;\n",
              "      border: none;\n",
              "      border-radius: 50%;\n",
              "      cursor: pointer;\n",
              "      display: none;\n",
              "      fill: #1967D2;\n",
              "      height: 32px;\n",
              "      padding: 0 0 0 0;\n",
              "      width: 32px;\n",
              "    }\n",
              "\n",
              "    .colab-df-convert:hover {\n",
              "      background-color: #E2EBFA;\n",
              "      box-shadow: 0px 1px 2px rgba(60, 64, 67, 0.3), 0px 1px 3px 1px rgba(60, 64, 67, 0.15);\n",
              "      fill: #174EA6;\n",
              "    }\n",
              "\n",
              "    .colab-df-buttons div {\n",
              "      margin-bottom: 4px;\n",
              "    }\n",
              "\n",
              "    [theme=dark] .colab-df-convert {\n",
              "      background-color: #3B4455;\n",
              "      fill: #D2E3FC;\n",
              "    }\n",
              "\n",
              "    [theme=dark] .colab-df-convert:hover {\n",
              "      background-color: #434B5C;\n",
              "      box-shadow: 0px 1px 3px 1px rgba(0, 0, 0, 0.15);\n",
              "      filter: drop-shadow(0px 1px 2px rgba(0, 0, 0, 0.3));\n",
              "      fill: #FFFFFF;\n",
              "    }\n",
              "  </style>\n",
              "\n",
              "    <script>\n",
              "      const buttonEl =\n",
              "        document.querySelector('#df-8c4f0c74-1e2c-49c0-be38-1e2cd7c0cf61 button.colab-df-convert');\n",
              "      buttonEl.style.display =\n",
              "        google.colab.kernel.accessAllowed ? 'block' : 'none';\n",
              "\n",
              "      async function convertToInteractive(key) {\n",
              "        const element = document.querySelector('#df-8c4f0c74-1e2c-49c0-be38-1e2cd7c0cf61');\n",
              "        const dataTable =\n",
              "          await google.colab.kernel.invokeFunction('convertToInteractive',\n",
              "                                                    [key], {});\n",
              "        if (!dataTable) return;\n",
              "\n",
              "        const docLinkHtml = 'Like what you see? Visit the ' +\n",
              "          '<a target=\"_blank\" href=https://colab.research.google.com/notebooks/data_table.ipynb>data table notebook</a>'\n",
              "          + ' to learn more about interactive tables.';\n",
              "        element.innerHTML = '';\n",
              "        dataTable['output_type'] = 'display_data';\n",
              "        await google.colab.output.renderOutput(dataTable, element);\n",
              "        const docLink = document.createElement('div');\n",
              "        docLink.innerHTML = docLinkHtml;\n",
              "        element.appendChild(docLink);\n",
              "      }\n",
              "    </script>\n",
              "  </div>\n",
              "\n",
              "\n",
              "<div id=\"df-6f673246-926c-4b30-b57a-74664527f743\">\n",
              "  <button class=\"colab-df-quickchart\" onclick=\"quickchart('df-6f673246-926c-4b30-b57a-74664527f743')\"\n",
              "            title=\"Suggest charts.\"\n",
              "            style=\"display:none;\">\n",
              "\n",
              "<svg xmlns=\"http://www.w3.org/2000/svg\" height=\"24px\"viewBox=\"0 0 24 24\"\n",
              "     width=\"24px\">\n",
              "    <g>\n",
              "        <path d=\"M19 3H5c-1.1 0-2 .9-2 2v14c0 1.1.9 2 2 2h14c1.1 0 2-.9 2-2V5c0-1.1-.9-2-2-2zM9 17H7v-7h2v7zm4 0h-2V7h2v10zm4 0h-2v-4h2v4z\"/>\n",
              "    </g>\n",
              "</svg>\n",
              "  </button>\n",
              "\n",
              "<style>\n",
              "  .colab-df-quickchart {\n",
              "      --bg-color: #E8F0FE;\n",
              "      --fill-color: #1967D2;\n",
              "      --hover-bg-color: #E2EBFA;\n",
              "      --hover-fill-color: #174EA6;\n",
              "      --disabled-fill-color: #AAA;\n",
              "      --disabled-bg-color: #DDD;\n",
              "  }\n",
              "\n",
              "  [theme=dark] .colab-df-quickchart {\n",
              "      --bg-color: #3B4455;\n",
              "      --fill-color: #D2E3FC;\n",
              "      --hover-bg-color: #434B5C;\n",
              "      --hover-fill-color: #FFFFFF;\n",
              "      --disabled-bg-color: #3B4455;\n",
              "      --disabled-fill-color: #666;\n",
              "  }\n",
              "\n",
              "  .colab-df-quickchart {\n",
              "    background-color: var(--bg-color);\n",
              "    border: none;\n",
              "    border-radius: 50%;\n",
              "    cursor: pointer;\n",
              "    display: none;\n",
              "    fill: var(--fill-color);\n",
              "    height: 32px;\n",
              "    padding: 0;\n",
              "    width: 32px;\n",
              "  }\n",
              "\n",
              "  .colab-df-quickchart:hover {\n",
              "    background-color: var(--hover-bg-color);\n",
              "    box-shadow: 0 1px 2px rgba(60, 64, 67, 0.3), 0 1px 3px 1px rgba(60, 64, 67, 0.15);\n",
              "    fill: var(--button-hover-fill-color);\n",
              "  }\n",
              "\n",
              "  .colab-df-quickchart-complete:disabled,\n",
              "  .colab-df-quickchart-complete:disabled:hover {\n",
              "    background-color: var(--disabled-bg-color);\n",
              "    fill: var(--disabled-fill-color);\n",
              "    box-shadow: none;\n",
              "  }\n",
              "\n",
              "  .colab-df-spinner {\n",
              "    border: 2px solid var(--fill-color);\n",
              "    border-color: transparent;\n",
              "    border-bottom-color: var(--fill-color);\n",
              "    animation:\n",
              "      spin 1s steps(1) infinite;\n",
              "  }\n",
              "\n",
              "  @keyframes spin {\n",
              "    0% {\n",
              "      border-color: transparent;\n",
              "      border-bottom-color: var(--fill-color);\n",
              "      border-left-color: var(--fill-color);\n",
              "    }\n",
              "    20% {\n",
              "      border-color: transparent;\n",
              "      border-left-color: var(--fill-color);\n",
              "      border-top-color: var(--fill-color);\n",
              "    }\n",
              "    30% {\n",
              "      border-color: transparent;\n",
              "      border-left-color: var(--fill-color);\n",
              "      border-top-color: var(--fill-color);\n",
              "      border-right-color: var(--fill-color);\n",
              "    }\n",
              "    40% {\n",
              "      border-color: transparent;\n",
              "      border-right-color: var(--fill-color);\n",
              "      border-top-color: var(--fill-color);\n",
              "    }\n",
              "    60% {\n",
              "      border-color: transparent;\n",
              "      border-right-color: var(--fill-color);\n",
              "    }\n",
              "    80% {\n",
              "      border-color: transparent;\n",
              "      border-right-color: var(--fill-color);\n",
              "      border-bottom-color: var(--fill-color);\n",
              "    }\n",
              "    90% {\n",
              "      border-color: transparent;\n",
              "      border-bottom-color: var(--fill-color);\n",
              "    }\n",
              "  }\n",
              "</style>\n",
              "\n",
              "  <script>\n",
              "    async function quickchart(key) {\n",
              "      const quickchartButtonEl =\n",
              "        document.querySelector('#' + key + ' button');\n",
              "      quickchartButtonEl.disabled = true;  // To prevent multiple clicks.\n",
              "      quickchartButtonEl.classList.add('colab-df-spinner');\n",
              "      try {\n",
              "        const charts = await google.colab.kernel.invokeFunction(\n",
              "            'suggestCharts', [key], {});\n",
              "      } catch (error) {\n",
              "        console.error('Error during call to suggestCharts:', error);\n",
              "      }\n",
              "      quickchartButtonEl.classList.remove('colab-df-spinner');\n",
              "      quickchartButtonEl.classList.add('colab-df-quickchart-complete');\n",
              "    }\n",
              "    (() => {\n",
              "      let quickchartButtonEl =\n",
              "        document.querySelector('#df-6f673246-926c-4b30-b57a-74664527f743 button');\n",
              "      quickchartButtonEl.style.display =\n",
              "        google.colab.kernel.accessAllowed ? 'block' : 'none';\n",
              "    })();\n",
              "  </script>\n",
              "</div>\n",
              "    </div>\n",
              "  </div>\n"
            ]
          },
          "metadata": {},
          "execution_count": 26
        }
      ]
    },
    {
      "cell_type": "code",
      "source": [],
      "metadata": {
        "id": "M14RYBL5SGHv"
      },
      "execution_count": 26,
      "outputs": []
    },
    {
      "cell_type": "code",
      "source": [
        "# 이상치 제거\n",
        "alternative_fare = train.nlargest(10, 'Fare', keep='first').iloc[5,3]\n",
        "train.loc[train.Fare>alternative_fare, 'Fare'] = alternative_fare"
      ],
      "metadata": {
        "id": "0nt_d2hEfeOm"
      },
      "execution_count": 27,
      "outputs": []
    },
    {
      "cell_type": "code",
      "source": [
        "# data setting for training\n",
        "from sklearn.model_selection import train_test_split\n",
        "\n",
        "X = train.drop(columns=['Survived']) # feature vector\n",
        "y = train.Survived  # target value\n",
        "\n",
        "train_idx, valid_idx = train_test_split(range(len(train)), test_size=0.2, shuffle=True, random_state=42)\n",
        "print(len(train_idx), len(valid_idx))"
      ],
      "metadata": {
        "colab": {
          "base_uri": "https://localhost:8080/"
        },
        "id": "6iFOi7_cfeRB",
        "outputId": "4e260b43-fb72-47f2-998d-acf84f57f1bf"
      },
      "execution_count": 28,
      "outputs": [
        {
          "output_type": "stream",
          "name": "stdout",
          "text": [
            "711 178\n"
          ]
        }
      ]
    },
    {
      "cell_type": "code",
      "source": [
        "print(y.iloc[train_idx].mean(), y.iloc[valid_idx].mean())"
      ],
      "metadata": {
        "colab": {
          "base_uri": "https://localhost:8080/"
        },
        "id": "P3dMxaISfeUB",
        "outputId": "6c2478c7-738e-4858-ed71-f9918897a739"
      },
      "execution_count": 29,
      "outputs": [
        {
          "output_type": "stream",
          "name": "stdout",
          "text": [
            "0.38115330520393814 0.38764044943820225\n"
          ]
        }
      ]
    },
    {
      "cell_type": "code",
      "source": [
        "# scale\n",
        "# from sklearn.preprocessing import MinMaxScaler\n",
        "# scaler = MinMaxScaler().fit(X.iloc[train_idx]) # train data로만 훈련\n",
        "# X_train_scale = scaler.transform(X.iloc[train_idx])\n",
        "# X_valid_scale = scaler.transform(X.iloc[valid_idx])\n",
        "# X_train_scale = pd.DataFrame(X_train_scale, columns=X.columns)\n",
        "# X_valid_scale = pd.DataFrame(X_valid_scale, columns=X.columns)"
      ],
      "metadata": {
        "id": "5MOdieFbkvlN"
      },
      "execution_count": 30,
      "outputs": []
    },
    {
      "cell_type": "code",
      "source": [
        "# sklearn에서 학습을 하는 방법\n",
        "# 1. 사용할 함수를 불러온다\n",
        "# 2. 해당 함수를 선언한다\n",
        "# 3. fit()"
      ],
      "metadata": {
        "id": "T5w_NPBHfeVo"
      },
      "execution_count": 31,
      "outputs": []
    },
    {
      "cell_type": "code",
      "source": [
        "from sklearn.linear_model import LinearRegression, LogisticRegression\n",
        "\n",
        "reg = LinearRegression()\n",
        "reg.fit(X.iloc[train_idx], y.iloc[train_idx])\n",
        "\n",
        "lreg = LogisticRegression()\n",
        "lreg.fit(X.iloc[train_idx], y.iloc[train_idx])"
      ],
      "metadata": {
        "colab": {
          "base_uri": "https://localhost:8080/",
          "height": 242
        },
        "id": "AHSj2H9SyuMR",
        "outputId": "2b487607-e3f2-4916-ebf8-d2a48a8f25c6"
      },
      "execution_count": 32,
      "outputs": [
        {
          "output_type": "stream",
          "name": "stderr",
          "text": [
            "/usr/local/lib/python3.10/dist-packages/sklearn/linear_model/_logistic.py:458: ConvergenceWarning: lbfgs failed to converge (status=1):\n",
            "STOP: TOTAL NO. of ITERATIONS REACHED LIMIT.\n",
            "\n",
            "Increase the number of iterations (max_iter) or scale the data as shown in:\n",
            "    https://scikit-learn.org/stable/modules/preprocessing.html\n",
            "Please also refer to the documentation for alternative solver options:\n",
            "    https://scikit-learn.org/stable/modules/linear_model.html#logistic-regression\n",
            "  n_iter_i = _check_optimize_result(\n"
          ]
        },
        {
          "output_type": "execute_result",
          "data": {
            "text/plain": [
              "LogisticRegression()"
            ],
            "text/html": [
              "<style>#sk-container-id-1 {color: black;background-color: white;}#sk-container-id-1 pre{padding: 0;}#sk-container-id-1 div.sk-toggleable {background-color: white;}#sk-container-id-1 label.sk-toggleable__label {cursor: pointer;display: block;width: 100%;margin-bottom: 0;padding: 0.3em;box-sizing: border-box;text-align: center;}#sk-container-id-1 label.sk-toggleable__label-arrow:before {content: \"▸\";float: left;margin-right: 0.25em;color: #696969;}#sk-container-id-1 label.sk-toggleable__label-arrow:hover:before {color: black;}#sk-container-id-1 div.sk-estimator:hover label.sk-toggleable__label-arrow:before {color: black;}#sk-container-id-1 div.sk-toggleable__content {max-height: 0;max-width: 0;overflow: hidden;text-align: left;background-color: #f0f8ff;}#sk-container-id-1 div.sk-toggleable__content pre {margin: 0.2em;color: black;border-radius: 0.25em;background-color: #f0f8ff;}#sk-container-id-1 input.sk-toggleable__control:checked~div.sk-toggleable__content {max-height: 200px;max-width: 100%;overflow: auto;}#sk-container-id-1 input.sk-toggleable__control:checked~label.sk-toggleable__label-arrow:before {content: \"▾\";}#sk-container-id-1 div.sk-estimator input.sk-toggleable__control:checked~label.sk-toggleable__label {background-color: #d4ebff;}#sk-container-id-1 div.sk-label input.sk-toggleable__control:checked~label.sk-toggleable__label {background-color: #d4ebff;}#sk-container-id-1 input.sk-hidden--visually {border: 0;clip: rect(1px 1px 1px 1px);clip: rect(1px, 1px, 1px, 1px);height: 1px;margin: -1px;overflow: hidden;padding: 0;position: absolute;width: 1px;}#sk-container-id-1 div.sk-estimator {font-family: monospace;background-color: #f0f8ff;border: 1px dotted black;border-radius: 0.25em;box-sizing: border-box;margin-bottom: 0.5em;}#sk-container-id-1 div.sk-estimator:hover {background-color: #d4ebff;}#sk-container-id-1 div.sk-parallel-item::after {content: \"\";width: 100%;border-bottom: 1px solid gray;flex-grow: 1;}#sk-container-id-1 div.sk-label:hover label.sk-toggleable__label {background-color: #d4ebff;}#sk-container-id-1 div.sk-serial::before {content: \"\";position: absolute;border-left: 1px solid gray;box-sizing: border-box;top: 0;bottom: 0;left: 50%;z-index: 0;}#sk-container-id-1 div.sk-serial {display: flex;flex-direction: column;align-items: center;background-color: white;padding-right: 0.2em;padding-left: 0.2em;position: relative;}#sk-container-id-1 div.sk-item {position: relative;z-index: 1;}#sk-container-id-1 div.sk-parallel {display: flex;align-items: stretch;justify-content: center;background-color: white;position: relative;}#sk-container-id-1 div.sk-item::before, #sk-container-id-1 div.sk-parallel-item::before {content: \"\";position: absolute;border-left: 1px solid gray;box-sizing: border-box;top: 0;bottom: 0;left: 50%;z-index: -1;}#sk-container-id-1 div.sk-parallel-item {display: flex;flex-direction: column;z-index: 1;position: relative;background-color: white;}#sk-container-id-1 div.sk-parallel-item:first-child::after {align-self: flex-end;width: 50%;}#sk-container-id-1 div.sk-parallel-item:last-child::after {align-self: flex-start;width: 50%;}#sk-container-id-1 div.sk-parallel-item:only-child::after {width: 0;}#sk-container-id-1 div.sk-dashed-wrapped {border: 1px dashed gray;margin: 0 0.4em 0.5em 0.4em;box-sizing: border-box;padding-bottom: 0.4em;background-color: white;}#sk-container-id-1 div.sk-label label {font-family: monospace;font-weight: bold;display: inline-block;line-height: 1.2em;}#sk-container-id-1 div.sk-label-container {text-align: center;}#sk-container-id-1 div.sk-container {/* jupyter's `normalize.less` sets `[hidden] { display: none; }` but bootstrap.min.css set `[hidden] { display: none !important; }` so we also need the `!important` here to be able to override the default hidden behavior on the sphinx rendered scikit-learn.org. See: https://github.com/scikit-learn/scikit-learn/issues/21755 */display: inline-block !important;position: relative;}#sk-container-id-1 div.sk-text-repr-fallback {display: none;}</style><div id=\"sk-container-id-1\" class=\"sk-top-container\"><div class=\"sk-text-repr-fallback\"><pre>LogisticRegression()</pre><b>In a Jupyter environment, please rerun this cell to show the HTML representation or trust the notebook. <br />On GitHub, the HTML representation is unable to render, please try loading this page with nbviewer.org.</b></div><div class=\"sk-container\" hidden><div class=\"sk-item\"><div class=\"sk-estimator sk-toggleable\"><input class=\"sk-toggleable__control sk-hidden--visually\" id=\"sk-estimator-id-1\" type=\"checkbox\" checked><label for=\"sk-estimator-id-1\" class=\"sk-toggleable__label sk-toggleable__label-arrow\">LogisticRegression</label><div class=\"sk-toggleable__content\"><pre>LogisticRegression()</pre></div></div></div></div></div>"
            ]
          },
          "metadata": {},
          "execution_count": 32
        }
      ]
    },
    {
      "cell_type": "code",
      "source": [
        "# 회귀 성능 비교\n",
        "from sklearn.metrics import mean_squared_error # MSE\n",
        "from sklearn.metrics import accuracy_score\n",
        "\n",
        "reg_pred = reg.predict(X.iloc[train_idx])\n",
        "lreg_pred = lreg.predict_proba(X.iloc[train_idx])[:, 1]\n",
        "\n",
        "print(f\"Linear mse : {mean_squared_error(y.iloc[train_idx], reg_pred):.4f}\")\n",
        "print(f\"Logistic mse : {mean_squared_error(y.iloc[train_idx], lreg_pred):.4f}\")\n",
        "\n",
        "\n",
        "print(f\"Linear accuracy : {accuracy_score(y.iloc[train_idx], [1 if r>0.5 else 0 for r in reg_pred]):.4f}\")\n",
        "print(f\"Logistic accuracy : {accuracy_score(y.iloc[train_idx], [1 if r>0.5 else 0 for r in lreg_pred]):.4f}\")"
      ],
      "metadata": {
        "colab": {
          "base_uri": "https://localhost:8080/"
        },
        "id": "XicUPxAByu0L",
        "outputId": "52bfb679-9f58-4f7f-9cb3-bf89a6f54748"
      },
      "execution_count": 33,
      "outputs": [
        {
          "output_type": "stream",
          "name": "stdout",
          "text": [
            "Linear mse : 0.1402\n",
            "Logistic mse : 0.1379\n",
            "Linear accuracy : 0.7947\n",
            "Logistic accuracy : 0.8045\n"
          ]
        }
      ]
    },
    {
      "cell_type": "code",
      "source": [
        "\n",
        "valid_reg_pred = reg.predict(X.iloc[valid_idx])\n",
        "valid_lreg_pred = lreg.predict_proba(X.iloc[valid_idx])[:, 1]\n",
        "print(f\"Linear mse : {mean_squared_error(y.iloc[valid_idx], valid_reg_pred):.4f}\")\n",
        "print(f\"Logistic mse : {mean_squared_error(y.iloc[valid_idx], valid_lreg_pred):.4f}\")\n",
        "\n",
        "print(f\"Linear accuracy : {accuracy_score(y.iloc[valid_idx], [1 if r>0.5 else 0 for r in valid_reg_pred]):.4f}\")\n",
        "print(f\"Logistic accuracy : {accuracy_score(y.iloc[valid_idx], [1 if r>0.5 else 0 for r in valid_lreg_pred]):.4f}\")"
      ],
      "metadata": {
        "colab": {
          "base_uri": "https://localhost:8080/"
        },
        "id": "5g71tLdRyvLF",
        "outputId": "3e7a9cca-939a-4210-bc85-721c60210481"
      },
      "execution_count": 34,
      "outputs": [
        {
          "output_type": "stream",
          "name": "stdout",
          "text": [
            "Linear mse : 0.1453\n",
            "Logistic mse : 0.1443\n",
            "Linear accuracy : 0.8146\n",
            "Logistic accuracy : 0.8034\n"
          ]
        }
      ]
    },
    {
      "cell_type": "code",
      "source": [
        "test = test_df.copy()\n",
        "test.info()"
      ],
      "metadata": {
        "colab": {
          "base_uri": "https://localhost:8080/"
        },
        "id": "0pakc3Ov2dTK",
        "outputId": "96759884-b36b-49b2-9e89-ceea89e5993d"
      },
      "execution_count": 35,
      "outputs": [
        {
          "output_type": "stream",
          "name": "stdout",
          "text": [
            "<class 'pandas.core.frame.DataFrame'>\n",
            "RangeIndex: 418 entries, 0 to 417\n",
            "Data columns (total 11 columns):\n",
            " #   Column       Non-Null Count  Dtype  \n",
            "---  ------       --------------  -----  \n",
            " 0   PassengerId  418 non-null    int64  \n",
            " 1   Pclass       418 non-null    int64  \n",
            " 2   Name         418 non-null    object \n",
            " 3   Sex          418 non-null    object \n",
            " 4   Age          332 non-null    float64\n",
            " 5   SibSp        418 non-null    int64  \n",
            " 6   Parch        418 non-null    int64  \n",
            " 7   Ticket       418 non-null    object \n",
            " 8   Fare         417 non-null    float64\n",
            " 9   Cabin        91 non-null     object \n",
            " 10  Embarked     418 non-null    object \n",
            "dtypes: float64(2), int64(4), object(5)\n",
            "memory usage: 36.0+ KB\n"
          ]
        }
      ]
    },
    {
      "cell_type": "code",
      "source": [
        "# Cabin 결측값 처리\n",
        "# 유무에 대한 정보 삽입\n",
        "test.loc[test.Cabin.isnull(), 'IsCabin'] = 0\n",
        "test.loc[test.Cabin.notnull(), 'IsCabin'] = 1"
      ],
      "metadata": {
        "id": "WRq-lA1f7qDj"
      },
      "execution_count": 36,
      "outputs": []
    },
    {
      "cell_type": "code",
      "source": [
        "# Age 결측값 처리\n",
        "test.Age = test.Age.fillna(test.Age.median())"
      ],
      "metadata": {
        "id": "95NNayAD8D9j"
      },
      "execution_count": 37,
      "outputs": []
    },
    {
      "cell_type": "code",
      "source": [
        "# SibSp + Parch\n",
        "test['FamilySize'] = test['SibSp'] + test['Parch']\n",
        "test.info()"
      ],
      "metadata": {
        "colab": {
          "base_uri": "https://localhost:8080/"
        },
        "id": "myWyLPZc8WK7",
        "outputId": "c8426649-624a-4a04-c9ce-b2c7d61de194"
      },
      "execution_count": 38,
      "outputs": [
        {
          "output_type": "stream",
          "name": "stdout",
          "text": [
            "<class 'pandas.core.frame.DataFrame'>\n",
            "RangeIndex: 418 entries, 0 to 417\n",
            "Data columns (total 13 columns):\n",
            " #   Column       Non-Null Count  Dtype  \n",
            "---  ------       --------------  -----  \n",
            " 0   PassengerId  418 non-null    int64  \n",
            " 1   Pclass       418 non-null    int64  \n",
            " 2   Name         418 non-null    object \n",
            " 3   Sex          418 non-null    object \n",
            " 4   Age          418 non-null    float64\n",
            " 5   SibSp        418 non-null    int64  \n",
            " 6   Parch        418 non-null    int64  \n",
            " 7   Ticket       418 non-null    object \n",
            " 8   Fare         417 non-null    float64\n",
            " 9   Cabin        91 non-null     object \n",
            " 10  Embarked     418 non-null    object \n",
            " 11  IsCabin      418 non-null    float64\n",
            " 12  FamilySize   418 non-null    int64  \n",
            "dtypes: float64(3), int64(5), object(5)\n",
            "memory usage: 42.6+ KB\n"
          ]
        }
      ]
    },
    {
      "cell_type": "code",
      "source": [
        "# 성별 처리 female = 0, male = 1\n",
        "test.Sex = test.Sex.map({'female':0, 'male':1})\n",
        "# test.Sex = pd.factorize(test.Sex, sort=True)[0]\n",
        "test.info()"
      ],
      "metadata": {
        "colab": {
          "base_uri": "https://localhost:8080/"
        },
        "id": "md1g0qmy9BYS",
        "outputId": "536d02a4-9128-4639-a5bc-cb28b8504d25"
      },
      "execution_count": 39,
      "outputs": [
        {
          "output_type": "stream",
          "name": "stdout",
          "text": [
            "<class 'pandas.core.frame.DataFrame'>\n",
            "RangeIndex: 418 entries, 0 to 417\n",
            "Data columns (total 13 columns):\n",
            " #   Column       Non-Null Count  Dtype  \n",
            "---  ------       --------------  -----  \n",
            " 0   PassengerId  418 non-null    int64  \n",
            " 1   Pclass       418 non-null    int64  \n",
            " 2   Name         418 non-null    object \n",
            " 3   Sex          418 non-null    int64  \n",
            " 4   Age          418 non-null    float64\n",
            " 5   SibSp        418 non-null    int64  \n",
            " 6   Parch        418 non-null    int64  \n",
            " 7   Ticket       418 non-null    object \n",
            " 8   Fare         417 non-null    float64\n",
            " 9   Cabin        91 non-null     object \n",
            " 10  Embarked     418 non-null    object \n",
            " 11  IsCabin      418 non-null    float64\n",
            " 12  FamilySize   418 non-null    int64  \n",
            "dtypes: float64(3), int64(6), object(4)\n",
            "memory usage: 42.6+ KB\n"
          ]
        }
      ]
    },
    {
      "cell_type": "code",
      "source": [
        "test = test.drop(columns=['Name', 'SibSp', 'Parch', 'Ticket', 'Cabin', 'PassengerId'])\n",
        "test.info()"
      ],
      "metadata": {
        "colab": {
          "base_uri": "https://localhost:8080/"
        },
        "id": "nXgDzWOp9nLy",
        "outputId": "08e1504d-cae3-4d5f-b01d-dde5a5156900"
      },
      "execution_count": 40,
      "outputs": [
        {
          "output_type": "stream",
          "name": "stdout",
          "text": [
            "<class 'pandas.core.frame.DataFrame'>\n",
            "RangeIndex: 418 entries, 0 to 417\n",
            "Data columns (total 7 columns):\n",
            " #   Column      Non-Null Count  Dtype  \n",
            "---  ------      --------------  -----  \n",
            " 0   Pclass      418 non-null    int64  \n",
            " 1   Sex         418 non-null    int64  \n",
            " 2   Age         418 non-null    float64\n",
            " 3   Fare        417 non-null    float64\n",
            " 4   Embarked    418 non-null    object \n",
            " 5   IsCabin     418 non-null    float64\n",
            " 6   FamilySize  418 non-null    int64  \n",
            "dtypes: float64(3), int64(3), object(1)\n",
            "memory usage: 23.0+ KB\n"
          ]
        }
      ]
    },
    {
      "cell_type": "code",
      "source": [
        "test = pd.get_dummies(data=test, columns=['Embarked'])\n",
        "test.info()"
      ],
      "metadata": {
        "colab": {
          "base_uri": "https://localhost:8080/"
        },
        "id": "g1wI8XiV-JKC",
        "outputId": "a16adfc0-f127-432c-e4ca-35fc3b9e035c"
      },
      "execution_count": 41,
      "outputs": [
        {
          "output_type": "stream",
          "name": "stdout",
          "text": [
            "<class 'pandas.core.frame.DataFrame'>\n",
            "RangeIndex: 418 entries, 0 to 417\n",
            "Data columns (total 9 columns):\n",
            " #   Column      Non-Null Count  Dtype  \n",
            "---  ------      --------------  -----  \n",
            " 0   Pclass      418 non-null    int64  \n",
            " 1   Sex         418 non-null    int64  \n",
            " 2   Age         418 non-null    float64\n",
            " 3   Fare        417 non-null    float64\n",
            " 4   IsCabin     418 non-null    float64\n",
            " 5   FamilySize  418 non-null    int64  \n",
            " 6   Embarked_C  418 non-null    uint8  \n",
            " 7   Embarked_Q  418 non-null    uint8  \n",
            " 8   Embarked_S  418 non-null    uint8  \n",
            "dtypes: float64(3), int64(3), uint8(3)\n",
            "memory usage: 20.9 KB\n"
          ]
        }
      ]
    },
    {
      "cell_type": "code",
      "source": [
        "sns.boxplot(data=test, y='Fare')"
      ],
      "metadata": {
        "colab": {
          "base_uri": "https://localhost:8080/",
          "height": 429
        },
        "id": "3yLYYFOUZlv9",
        "outputId": "da323dfa-7ee0-475c-a521-3ea5528fdd82"
      },
      "execution_count": 42,
      "outputs": [
        {
          "output_type": "execute_result",
          "data": {
            "text/plain": [
              "<Axes: ylabel='Fare'>"
            ]
          },
          "metadata": {},
          "execution_count": 42
        },
        {
          "output_type": "display_data",
          "data": {
            "text/plain": [
              "<Figure size 640x480 with 1 Axes>"
            ],
            "image/png": "[encoded data removed]"
          },
          "metadata": {}
        }
      ]
    },
    {
      "cell_type": "code",
      "source": [
        "# 이상치, 결측치 정정\n",
        "alternative_fare = test.nlargest(10, 'Fare', keep='first').iloc[5,3] # 1 = 6th value, 3's column = Fare\n",
        "test.loc[test.Fare>alternative_fare, 'Fare'] = alternative_fare\n",
        "test.Fare = test.Fare.fillna(test.Fare.median())\n",
        "sns.boxplot(data=test, y='Fare')\n",
        "test.info()"
      ],
      "metadata": {
        "colab": {
          "base_uri": "https://localhost:8080/",
          "height": 705
        },
        "id": "WgInt-vTZ_zk",
        "outputId": "f54c1c2d-418e-4916-98f2-4cf2884332d1"
      },
      "execution_count": 43,
      "outputs": [
        {
          "output_type": "stream",
          "name": "stdout",
          "text": [
            "<class 'pandas.core.frame.DataFrame'>\n",
            "RangeIndex: 418 entries, 0 to 417\n",
            "Data columns (total 9 columns):\n",
            " #   Column      Non-Null Count  Dtype  \n",
            "---  ------      --------------  -----  \n",
            " 0   Pclass      418 non-null    int64  \n",
            " 1   Sex         418 non-null    int64  \n",
            " 2   Age         418 non-null    float64\n",
            " 3   Fare        418 non-null    float64\n",
            " 4   IsCabin     418 non-null    float64\n",
            " 5   FamilySize  418 non-null    int64  \n",
            " 6   Embarked_C  418 non-null    uint8  \n",
            " 7   Embarked_Q  418 non-null    uint8  \n",
            " 8   Embarked_S  418 non-null    uint8  \n",
            "dtypes: float64(3), int64(3), uint8(3)\n",
            "memory usage: 20.9 KB\n"
          ]
        },
        {
          "output_type": "display_data",
          "data": {
            "text/plain": [
              "<Figure size 640x480 with 1 Axes>"
            ],
            "image/png": "[encoded data removed]"
          },
          "metadata": {}
        }
      ]
    },
    {
      "cell_type": "code",
      "source": [
        "# test_scale = scaler.transform(test)\n",
        "# test_scale = pd.DataFrame(test_scale, columns=test.columns)"
      ],
      "metadata": {
        "id": "fddbZ6-hl3rV"
      },
      "execution_count": 44,
      "outputs": []
    },
    {
      "cell_type": "code",
      "source": [
        "reg.predict(test)"
      ],
      "metadata": {
        "colab": {
          "base_uri": "https://localhost:8080/"
        },
        "id": "eil4vvAV-dVV",
        "outputId": "3fd181e0-bd85-4178-e264-8b6cab601f2d"
      },
      "execution_count": 45,
      "outputs": [
        {
          "output_type": "execute_result",
          "data": {
            "text/plain": [
              "array([ 1.09254870e-01,  4.17134368e-01,  4.15186732e-02,  1.07288049e-01,\n",
              "        5.72370702e-01,  1.96900031e-01,  6.42042136e-01,  2.72682042e-01,\n",
              "        7.31708142e-01,  1.69132940e-01,  1.01138303e-01,  3.16731613e-01,\n",
              "        1.49459239e+00,  5.72399094e-02,  1.16830668e+00,  9.03344153e-01,\n",
              "        2.39621179e-01,  2.07102222e-01,  5.55477134e-01,  5.54928018e-01,\n",
              "        5.46957841e-01,  1.30240634e-01,  9.91628557e-01,  7.85402706e-01,\n",
              "        2.69517767e+00, -4.72799205e-02,  1.41047878e+00,  1.97282976e-01,\n",
              "        5.07433064e-01,  1.82104981e-01,  1.42340045e-01,  3.05827018e-01,\n",
              "        5.16008298e-01,  5.78345828e-01,  8.19253065e-01,  2.23501321e-01,\n",
              "        6.07308889e-01,  6.51498774e-01,  1.27098015e-01,  4.90961771e-01,\n",
              "        8.81061327e-02,  5.67396181e-01,  9.12463890e-03,  7.24752426e-01,\n",
              "        1.11225106e+00,  1.14464847e-01,  5.46899019e-01,  1.57715834e-01,\n",
              "        1.32735507e+00,  5.09700477e-01,  8.04509974e-01,  3.27833858e-01,\n",
              "        7.17937289e-01,  2.70320438e+00,  3.32212555e-01,  1.86305147e-01,\n",
              "        4.87689891e-02,  2.34134920e-01,  1.16115552e-01,  2.97704814e+00,\n",
              "        1.66599946e-01,  2.10736888e-01,  1.58884312e-01,  6.95179868e-01,\n",
              "        2.41935969e+00,  8.08559390e-01,  7.22601372e-01,  4.41730816e-01,\n",
              "        6.29220838e-01,  2.49372712e+00,  6.82288066e-01,  1.40415289e-01,\n",
              "        5.93213928e-01,  6.39035450e-01,  2.57552293e+00,  2.08695460e+00,\n",
              "        1.02375151e-01,  7.80561173e-01,  2.19818687e-01,  6.82288066e-01,\n",
              "        2.67971750e-01,  1.82066542e+00,  2.97093120e-01,  1.01138303e-01,\n",
              "        2.78822320e-01,  1.74981953e-01,  6.63685894e-01,  6.66224368e-01,\n",
              "        6.62649573e-01,  3.81663631e-01,  6.36133783e-01,  1.00169359e-01,\n",
              "        1.12397850e+00,  1.02375151e-01,  5.26268522e-01,  1.13428526e-01,\n",
              "        1.12024013e+00,  8.82801898e-02,  6.51561516e-01,  6.30981650e-02,\n",
              "        1.22057166e+00,  2.92901824e-01,  1.57715834e-01,  1.06715524e-01,\n",
              "        6.53469337e-01,  2.11933815e-01,  1.97560711e-01,  1.57715834e-01,\n",
              "        1.07689102e-01,  4.16975441e-01,  2.36287822e-01,  6.62883788e-01,\n",
              "        1.12662352e+00,  7.14548541e-01,  2.35178381e+00,  2.33897431e-01,\n",
              "        1.61508652e-01,  8.67108939e-01,  9.71107160e-01,  7.84743234e-01,\n",
              "        8.64641295e-01,  1.06886711e-01,  1.29145598e+00,  8.94121392e-02,\n",
              "        1.57715834e-01,  6.86510934e-01,  1.33067019e-01,  6.85317741e-01,\n",
              "        1.41264716e-01,  1.22013644e-01,  6.96443293e-02,  4.84904434e-01,\n",
              "        5.43692775e-01,  1.10679529e-01, -3.60032517e-03,  1.20443120e-01,\n",
              "        1.71098318e-01,  2.46003344e-01,  6.33493546e-01, -2.69107053e-02,\n",
              "        6.74407962e-01,  1.91380944e+00,  2.10514380e+00,  3.37184783e-01,\n",
              "        3.47327852e-01,  3.51266100e-03,  7.70429237e-01,  1.35105972e-01,\n",
              "        4.45520317e-01,  2.22434208e-01,  1.57381143e+00,  1.73205763e-01,\n",
              "       -6.55528868e-02,  4.79888607e-01,  7.62381759e-02,  1.18003114e-01,\n",
              "        2.62518252e+00,  6.31923023e-01,  4.69203717e-01,  5.58117370e-01,\n",
              "        6.62515621e-01,  2.61425586e-01,  7.54947612e-01,  9.39530388e-02,\n",
              "        1.47810880e-01,  6.24291107e-01,  6.94064865e-01,  1.69128515e-01,\n",
              "        1.03191257e+00,  6.47358927e-01,  9.83646212e-02,  1.67825236e-01,\n",
              "        1.24653880e-01,  1.67858925e-01, -1.00508260e-01,  9.29834177e-01,\n",
              "        9.80714220e-01,  6.43630112e-01,  8.63411469e-01,  1.25458957e+00,\n",
              "        2.19818687e-01,  9.26402265e-01,  1.29337539e+00,  1.57715834e-01,\n",
              "        2.81515896e+00,  1.78420221e-01,  7.97007253e-01,  6.61785472e-02,\n",
              "        5.92312786e-01,  1.54357044e-01,  2.47078674e-01,  4.41108734e-01,\n",
              "        1.53918281e-01,  6.94209071e-02,  4.18586705e-01,  6.15276416e-02,\n",
              "        1.54114816e+00,  6.64018577e-01,  2.45589190e-01,  6.07810205e-01,\n",
              "        7.24812780e-01,  2.26236830e-01,  2.06974356e+00,  8.71383560e-01,\n",
              "        2.32496861e-01,  5.11104354e-01,  6.10280258e-01,  2.39043025e-01,\n",
              "        1.11451145e+00,  1.14230632e-01,  1.85749158e-01,  9.43540917e-02,\n",
              "        7.90192892e-01,  5.81812141e-01,  2.28120552e-01,  5.97139608e-01,\n",
              "        6.63685894e-01,  1.25692355e+00,  2.37567222e+00,  1.02375151e-01,\n",
              "        7.52875237e-01,  1.41652136e-01,  8.78944957e-01,  1.39613183e-01,\n",
              "        8.59506508e-01,  6.35436038e-01,  1.26520855e-01,  6.62649573e-01,\n",
              "        7.05503988e-02,  1.80541701e-01,  7.41652384e-01,  9.89731041e-01,\n",
              "        7.83566833e-02,  1.58752155e-01,  8.68888984e-01,  1.46627777e-01,\n",
              "        7.37052012e-01,  2.13648386e-01,  7.01648151e-01,  1.59678089e+00,\n",
              "        8.48619970e-01,  6.61259718e-01,  1.28584776e+00,  1.01071729e-01,\n",
              "        7.34120897e-02,  6.27953814e-01,  8.41290212e-01,  1.96017120e-01,\n",
              "        7.84743234e-01,  6.79915691e-01,  8.80938134e-01,  1.47195668e-01,\n",
              "        1.47278943e+00,  1.32240494e-01,  7.80017827e-02,  9.83646212e-02,\n",
              "        1.57715834e-01,  9.58289864e-02,  7.96760233e-01,  1.39446345e-01,\n",
              "        6.43543684e-02,  1.40081613e-01,  7.09850933e-01,  7.09004357e-01,\n",
              "        2.89780618e-01,  1.01138303e-01,  2.32561200e-01,  9.83646212e-02,\n",
              "        6.07308889e-01,  1.72749692e-01,  9.05645518e-01,  1.57715834e-01,\n",
              "        1.98426934e+00,  6.73983657e-01,  1.67825236e-01,  8.43658712e-01,\n",
              "        2.12858368e-01,  2.07801688e-01,  2.33158036e-01,  2.52135354e-01,\n",
              "        6.38406445e-01,  2.18474280e-01,  6.62649573e-01,  7.53266996e-01,\n",
              "        7.66860880e-01,  3.70428249e-02,  9.59583035e-02,  9.83112489e-01,\n",
              "        2.89734789e-01,  1.02375151e-01,  5.50195136e-01,  6.36594233e-01,\n",
              "        1.67858925e-01,  7.39168801e-01,  5.50902077e-02,  1.07684468e-01,\n",
              "        1.06340673e+00,  1.82104981e-01,  5.77880892e-01,  8.77122988e-02,\n",
              "        6.74385380e-02,  4.49809986e-01,  1.48057900e-01,  1.26926542e-01,\n",
              "        6.62649573e-01,  7.28463595e-01,  1.39790269e+00,  2.33286524e-01,\n",
              "        8.19455235e-01,  4.87242791e-01,  1.66203528e-01,  2.00556058e-01,\n",
              "        9.85651477e-02,  5.97187930e-01,  1.83606836e+00,  7.27977264e-01,\n",
              "        1.35454245e+00,  2.71773847e-01,  1.00804627e-01,  3.18919346e-01,\n",
              "        1.06715524e-01,  3.02827118e-01,  3.67879209e-01,  4.06243331e-01,\n",
              "        2.35409152e+00,  1.20538749e-01,  1.02051941e+00,  8.15519411e-01,\n",
              "        2.79809495e-01,  2.78734166e-01,  6.95763373e-01,  5.86176005e-01,\n",
              "        1.67825236e-01,  6.91782996e-01,  1.01138303e-01,  5.43346106e-01,\n",
              "        2.06726358e-01, -1.23532931e-02,  4.00939100e-01,  1.67858925e-01,\n",
              "        2.78320011e-01,  6.58680147e-02,  8.73790471e-02,  2.78220340e+00,\n",
              "        5.24527348e-02,  6.76108273e-01,  2.46003344e-01,  6.00784856e-01,\n",
              "        2.63106202e-01,  7.82374733e-01,  1.27097884e+00,  2.32496861e-01,\n",
              "        7.83646728e-01,  3.60049264e-01,  7.30918871e-01,  4.12422820e-01,\n",
              "        9.61153000e-01,  1.01005154e-01,  1.57715834e-01,  5.96999216e-01,\n",
              "        1.69206101e-01,  9.26977729e-01,  7.82374733e-01,  1.07288049e-01,\n",
              "        1.33840261e+00,  5.92312786e-01,  1.75014839e-01,  8.93805965e-01,\n",
              "        1.11735322e+00,  3.05316786e-01,  2.15873454e-01,  1.98408604e+00,\n",
              "        2.10421450e-01,  1.28172387e-01,  1.23755638e+00,  2.79625680e+00,\n",
              "        5.43294363e-01,  2.66702577e-01,  5.72197415e-01,  1.28607490e-01,\n",
              "        1.57715834e-01,  1.65298319e-01,  6.59044720e-01,  6.73418605e-01,\n",
              "        2.38454548e-01,  1.02863711e+00,  1.19807852e-01,  4.30722513e-02,\n",
              "        1.96992820e-01,  1.41002401e-01,  1.13059074e+00,  9.67463462e-01,\n",
              "        1.90220124e-01,  8.84812467e-02, -1.93937116e-03,  1.34872070e+00,\n",
              "        1.73343798e-01,  1.32757844e+00,  1.32900181e-01,  1.31397225e-01,\n",
              "        2.16213784e+00,  1.80788722e-01,  1.26791500e+00,  6.75814722e-01,\n",
              "        4.93286945e-01,  4.86141817e-01,  1.94760066e-01,  1.87073848e+00,\n",
              "        6.62415358e-01,  7.08679148e-01,  6.62649573e-01,  1.52272235e+00,\n",
              "        5.98556934e-01,  1.02375151e-01,  1.72637762e+00,  2.06774142e-02,\n",
              "        1.02375151e-01,  1.87552082e-01])"
            ]
          },
          "metadata": {},
          "execution_count": 45
        }
      ]
    },
    {
      "cell_type": "code",
      "source": [
        "lreg.predict_proba(test)[:, 1]"
      ],
      "metadata": {
        "colab": {
          "base_uri": "https://localhost:8080/"
        },
        "id": "anUzeOS5--FT",
        "outputId": "83adb447-73cb-4032-fd87-902b5cd4396a"
      },
      "execution_count": 46,
      "outputs": [
        {
          "output_type": "execute_result",
          "data": {
            "text/plain": [
              "array([0.09245775, 0.29050826, 0.05659267, 0.10238258, 0.54020462,\n",
              "       0.17409126, 0.63608811, 0.25514351, 0.777235  , 0.15093794,\n",
              "       0.09817998, 0.31073808, 0.99861972, 0.07434452, 0.98568278,\n",
              "       0.91900024, 0.1904109 , 0.17678561, 0.51387383, 0.51121548,\n",
              "       0.71119517, 0.11064453, 0.95478589, 0.92677895, 0.99999985,\n",
              "       0.03824083, 0.9971239 , 0.16725671, 0.59009399, 0.15542991,\n",
              "       0.12544505, 0.30359407, 0.4480707 , 0.55820618, 0.92961332,\n",
              "       0.19364526, 0.609586  , 0.67927785, 0.11599476, 0.67598045,\n",
              "       0.08726193, 0.67894002, 0.05494287, 0.76794948, 0.9780606 ,\n",
              "       0.10653666, 0.64330227, 0.12409426, 0.99552748, 0.43932764,\n",
              "       0.92640388, 0.32142226, 0.75083767, 0.99999986, 0.32869926,\n",
              "       0.14071009, 0.07079758, 0.18561183, 0.10894268, 0.99999998,\n",
              "       0.14535573, 0.18006773, 0.13883842, 0.71527337, 0.99999955,\n",
              "       0.86016828, 0.75193315, 0.5387209 , 0.7583487 , 0.99999941,\n",
              "       0.69708013, 0.12455927, 0.58631562, 0.76951099, 0.9999996 ,\n",
              "       0.99999494, 0.09901267, 0.79200056, 0.18891942, 0.69708013,\n",
              "       0.24109286, 0.99997089, 0.2828224 , 0.09817998, 0.2332224 ,\n",
              "       0.14815297, 0.66983722, 0.69995268, 0.66809878, 0.40968622,\n",
              "       0.65511749, 0.09753202, 0.97815463, 0.09901267, 0.64395876,\n",
              "       0.10579172, 0.98222618, 0.0907047 , 0.67829631, 0.07756432,\n",
              "       0.98916824, 0.28581625, 0.12409426, 0.10152978, 0.65749295,\n",
              "       0.20208036, 0.15679798, 0.12409426, 0.10266212, 0.43058299,\n",
              "       0.20245191, 0.66849208, 0.9773636 , 0.74085866, 0.99999829,\n",
              "       0.20625296, 0.13542796, 0.88397806, 0.97720988, 0.8387291 ,\n",
              "       0.89723393, 0.08812998, 0.99338333, 0.09100186, 0.12409426,\n",
              "       0.73073211, 0.11913647, 0.7060871 , 0.12000525, 0.11160904,\n",
              "       0.08081692, 0.539896  , 0.49348878, 0.09654104, 0.05062344,\n",
              "       0.11043486, 0.14385423, 0.21778824, 0.65113157, 0.04290534,\n",
              "       0.70832103, 0.99995748, 0.99999621, 0.35940797, 0.35782703,\n",
              "       0.05071337, 0.90778724, 0.12076692, 0.52107726, 0.1927729 ,\n",
              "       0.99916787, 0.14614184, 0.03510782, 0.38468234, 0.07867488,\n",
              "       0.1086321 , 0.99999974, 0.64842423, 0.51992389, 0.51826774,\n",
              "       0.66787373, 0.23302502, 0.80307003, 0.09346504, 0.1247968 ,\n",
              "       0.63977317, 0.84805942, 0.14968336, 0.96309264, 0.67350311,\n",
              "       0.09633529, 0.14112884, 0.11336547, 0.14115977, 0.02496521,\n",
              "       0.93588296, 0.95630939, 0.79735485, 0.88350253, 0.99245399,\n",
              "       0.18891942, 0.96862441, 0.99353555, 0.12409426, 0.99999993,\n",
              "       0.15175838, 0.84578109, 0.07398232, 0.58847934, 0.12975145,\n",
              "       0.22651955, 0.51273241, 0.13126738, 0.06867443, 0.48607803,\n",
              "       0.07671738, 0.99964119, 0.69643175, 0.21472586, 0.6104894 ,\n",
              "       0.76323439, 0.19820219, 0.99999465, 0.90053368, 0.20006422,\n",
              "       0.61955771, 0.58484855, 0.20729933, 0.9748792 , 0.1063679 ,\n",
              "       0.17482832, 0.09372277, 0.94261765, 0.56607551, 0.08653744,\n",
              "       0.74055822, 0.66983722, 0.99831671, 0.99999833, 0.09901267,\n",
              "       0.78899487, 0.12558454, 0.88758449, 0.12389822, 0.88945044,\n",
              "       0.63882883, 0.11453382, 0.66809878, 0.08454554, 0.15126501,\n",
              "       0.91806116, 0.95283733, 0.08184955, 0.12495007, 0.95264447,\n",
              "       0.1292212 , 0.89352835, 0.18337185, 0.7245545 , 0.99938244,\n",
              "       0.88211645, 0.68903236, 0.9979595 , 0.09813534, 0.08166546,\n",
              "       0.78243071, 0.8849072 , 0.171863  , 0.8387291 , 0.71190495,\n",
              "       0.90403452, 0.12970603, 0.99945625, 0.11952458, 0.08584149,\n",
              "       0.09633529, 0.12409426, 0.09510353, 0.84389396, 0.1237611 ,\n",
              "       0.07970194, 0.1242839 , 0.74726007, 0.74869588, 0.26491614,\n",
              "       0.09817998, 0.1781636 , 0.09633529, 0.609586  , 0.15123904,\n",
              "       0.96484712, 0.12409426, 0.99996338, 0.6874075 , 0.14112884,\n",
              "       0.88597817, 0.17950181, 0.18306235, 0.20531044, 0.22234381,\n",
              "       0.65953727, 0.1893436 , 0.66809878, 0.79791037, 0.82272476,\n",
              "       0.06547609, 0.09476007, 0.97987889, 0.24211025, 0.09901267,\n",
              "       0.7062597 , 0.62648265, 0.14115977, 0.89886298, 0.07435496,\n",
              "       0.1022013 , 0.9715849 , 0.15542991, 0.75062381, 0.09035052,\n",
              "       0.07958433, 0.47952695, 0.12637769, 0.11535277, 0.66809878,\n",
              "       0.7285292 , 0.99914432, 0.20681226, 0.94282644, 0.40810884,\n",
              "       0.14560115, 0.17038657, 0.09646761, 0.56303465, 0.99990235,\n",
              "       0.75854066, 0.99885367, 0.24634045, 0.09795641, 0.32278137,\n",
              "       0.10152978, 0.2588561 , 0.35113442, 0.45430095, 0.99999853,\n",
              "       0.11001778, 0.95675608, 0.94726136, 0.26795686, 0.25816143,\n",
              "       0.74495829, 0.70211565, 0.14112884, 0.72258187, 0.09817998,\n",
              "       0.64144767, 0.17562578, 0.0428621 , 0.47254837, 0.14115977,\n",
              "       0.25471621, 0.07871721, 0.09144373, 0.99999993, 0.07035351,\n",
              "       0.71340731, 0.21778824, 0.58841153, 0.23884911, 0.83729582,\n",
              "       0.99265365, 0.20006422, 0.94015646, 0.42739149, 0.77835655,\n",
              "       0.42297568, 0.9384827 , 0.09809071, 0.12409426, 0.59507292,\n",
              "       0.14950435, 0.9315304 , 0.83729582, 0.10238258, 0.99511837,\n",
              "       0.58847934, 0.14818441, 0.93027664, 0.98203361, 0.28743805,\n",
              "       0.1781173 , 0.99996414, 0.13637404, 0.11089784, 0.99178756,\n",
              "       0.99999995, 0.48523147, 0.2410946 , 0.71598514, 0.10874742,\n",
              "       0.12409426, 0.12990991, 0.69793404, 0.71281962, 0.20902566,\n",
              "       0.97001436, 0.109963  , 0.06528084, 0.15623006, 0.11817041,\n",
              "       0.99327571, 0.9387946 , 0.16695805, 0.08569748, 0.04842029,\n",
              "       0.99573993, 0.13578322, 0.99528571, 0.11900391, 0.1058665 ,\n",
              "       0.99999148, 0.15312254, 0.99348543, 0.8555862 , 0.54394207,\n",
              "       0.53952777, 0.15720959, 0.99997625, 0.66770524, 0.75010262,\n",
              "       0.66809878, 0.99877265, 0.59489822, 0.09901267, 0.9997573 ,\n",
              "       0.05897367, 0.09901267, 0.16092385])"
            ]
          },
          "metadata": {},
          "execution_count": 46
        }
      ]
    },
    {
      "cell_type": "code",
      "source": [
        "submission.head()"
      ],
      "metadata": {
        "colab": {
          "base_uri": "https://localhost:8080/",
          "height": 206
        },
        "id": "nsL_OnZQ_Hvc",
        "outputId": "e649b131-9c64-4338-ad5a-c295a2bf1d8e"
      },
      "execution_count": 47,
      "outputs": [
        {
          "output_type": "execute_result",
          "data": {
            "text/plain": [
              "   PassengerId  Survived\n",
              "0          892         0\n",
              "1          893         1\n",
              "2          894         0\n",
              "3          895         0\n",
              "4          896         1"
            ],
            "text/html": [
              "\n",
              "  <div id=\"df-8e8489a3-6d91-4d92-a2c2-91082728927b\" class=\"colab-df-container\">\n",
              "    <div>\n",
              "<style scoped>\n",
              "    .dataframe tbody tr th:only-of-type {\n",
              "        vertical-align: middle;\n",
              "    }\n",
              "\n",
              "    .dataframe tbody tr th {\n",
              "        vertical-align: top;\n",
              "    }\n",
              "\n",
              "    .dataframe thead th {\n",
              "        text-align: right;\n",
              "    }\n",
              "</style>\n",
              "<table border=\"1\" class=\"dataframe\">\n",
              "  <thead>\n",
              "    <tr style=\"text-align: right;\">\n",
              "      <th></th>\n",
              "      <th>PassengerId</th>\n",
              "      <th>Survived</th>\n",
              "    </tr>\n",
              "  </thead>\n",
              "  <tbody>\n",
              "    <tr>\n",
              "      <th>0</th>\n",
              "      <td>892</td>\n",
              "      <td>0</td>\n",
              "    </tr>\n",
              "    <tr>\n",
              "      <th>1</th>\n",
              "      <td>893</td>\n",
              "      <td>1</td>\n",
              "    </tr>\n",
              "    <tr>\n",
              "      <th>2</th>\n",
              "      <td>894</td>\n",
              "      <td>0</td>\n",
              "    </tr>\n",
              "    <tr>\n",
              "      <th>3</th>\n",
              "      <td>895</td>\n",
              "      <td>0</td>\n",
              "    </tr>\n",
              "    <tr>\n",
              "      <th>4</th>\n",
              "      <td>896</td>\n",
              "      <td>1</td>\n",
              "    </tr>\n",
              "  </tbody>\n",
              "</table>\n",
              "</div>\n",
              "    <div class=\"colab-df-buttons\">\n",
              "\n",
              "  <div class=\"colab-df-container\">\n",
              "    <button class=\"colab-df-convert\" onclick=\"convertToInteractive('df-8e8489a3-6d91-4d92-a2c2-91082728927b')\"\n",
              "            title=\"Convert this dataframe to an interactive table.\"\n",
              "            style=\"display:none;\">\n",
              "\n",
              "  <svg xmlns=\"http://www.w3.org/2000/svg\" height=\"24px\" viewBox=\"0 -960 960 960\">\n",
              "    <path d=\"M120-120v-720h720v720H120Zm60-500h600v-160H180v160Zm220 220h160v-160H400v160Zm0 220h160v-160H400v160ZM180-400h160v-160H180v160Zm440 0h160v-160H620v160ZM180-180h160v-160H180v160Zm440 0h160v-160H620v160Z\"/>\n",
              "  </svg>\n",
              "    </button>\n",
              "\n",
              "  <style>\n",
              "    .colab-df-container {\n",
              "      display:flex;\n",
              "      gap: 12px;\n",
              "    }\n",
              "\n",
              "    .colab-df-convert {\n",
              "      background-color: #E8F0FE;\n",
              "      border: none;\n",
              "      border-radius: 50%;\n",
              "      cursor: pointer;\n",
              "      display: none;\n",
              "      fill: #1967D2;\n",
              "      height: 32px;\n",
              "      padding: 0 0 0 0;\n",
              "      width: 32px;\n",
              "    }\n",
              "\n",
              "    .colab-df-convert:hover {\n",
              "      background-color: #E2EBFA;\n",
              "      box-shadow: 0px 1px 2px rgba(60, 64, 67, 0.3), 0px 1px 3px 1px rgba(60, 64, 67, 0.15);\n",
              "      fill: #174EA6;\n",
              "    }\n",
              "\n",
              "    .colab-df-buttons div {\n",
              "      margin-bottom: 4px;\n",
              "    }\n",
              "\n",
              "    [theme=dark] .colab-df-convert {\n",
              "      background-color: #3B4455;\n",
              "      fill: #D2E3FC;\n",
              "    }\n",
              "\n",
              "    [theme=dark] .colab-df-convert:hover {\n",
              "      background-color: #434B5C;\n",
              "      box-shadow: 0px 1px 3px 1px rgba(0, 0, 0, 0.15);\n",
              "      filter: drop-shadow(0px 1px 2px rgba(0, 0, 0, 0.3));\n",
              "      fill: #FFFFFF;\n",
              "    }\n",
              "  </style>\n",
              "\n",
              "    <script>\n",
              "      const buttonEl =\n",
              "        document.querySelector('#df-8e8489a3-6d91-4d92-a2c2-91082728927b button.colab-df-convert');\n",
              "      buttonEl.style.display =\n",
              "        google.colab.kernel.accessAllowed ? 'block' : 'none';\n",
              "\n",
              "      async function convertToInteractive(key) {\n",
              "        const element = document.querySelector('#df-8e8489a3-6d91-4d92-a2c2-91082728927b');\n",
              "        const dataTable =\n",
              "          await google.colab.kernel.invokeFunction('convertToInteractive',\n",
              "                                                    [key], {});\n",
              "        if (!dataTable) return;\n",
              "\n",
              "        const docLinkHtml = 'Like what you see? Visit the ' +\n",
              "          '<a target=\"_blank\" href=https://colab.research.google.com/notebooks/data_table.ipynb>data table notebook</a>'\n",
              "          + ' to learn more about interactive tables.';\n",
              "        element.innerHTML = '';\n",
              "        dataTable['output_type'] = 'display_data';\n",
              "        await google.colab.output.renderOutput(dataTable, element);\n",
              "        const docLink = document.createElement('div');\n",
              "        docLink.innerHTML = docLinkHtml;\n",
              "        element.appendChild(docLink);\n",
              "      }\n",
              "    </script>\n",
              "  </div>\n",
              "\n",
              "\n",
              "<div id=\"df-69dba8d2-f344-48fa-9b05-0370b494a73c\">\n",
              "  <button class=\"colab-df-quickchart\" onclick=\"quickchart('df-69dba8d2-f344-48fa-9b05-0370b494a73c')\"\n",
              "            title=\"Suggest charts.\"\n",
              "            style=\"display:none;\">\n",
              "\n",
              "<svg xmlns=\"http://www.w3.org/2000/svg\" height=\"24px\"viewBox=\"0 0 24 24\"\n",
              "     width=\"24px\">\n",
              "    <g>\n",
              "        <path d=\"M19 3H5c-1.1 0-2 .9-2 2v14c0 1.1.9 2 2 2h14c1.1 0 2-.9 2-2V5c0-1.1-.9-2-2-2zM9 17H7v-7h2v7zm4 0h-2V7h2v10zm4 0h-2v-4h2v4z\"/>\n",
              "    </g>\n",
              "</svg>\n",
              "  </button>\n",
              "\n",
              "<style>\n",
              "  .colab-df-quickchart {\n",
              "      --bg-color: #E8F0FE;\n",
              "      --fill-color: #1967D2;\n",
              "      --hover-bg-color: #E2EBFA;\n",
              "      --hover-fill-color: #174EA6;\n",
              "      --disabled-fill-color: #AAA;\n",
              "      --disabled-bg-color: #DDD;\n",
              "  }\n",
              "\n",
              "  [theme=dark] .colab-df-quickchart {\n",
              "      --bg-color: #3B4455;\n",
              "      --fill-color: #D2E3FC;\n",
              "      --hover-bg-color: #434B5C;\n",
              "      --hover-fill-color: #FFFFFF;\n",
              "      --disabled-bg-color: #3B4455;\n",
              "      --disabled-fill-color: #666;\n",
              "  }\n",
              "\n",
              "  .colab-df-quickchart {\n",
              "    background-color: var(--bg-color);\n",
              "    border: none;\n",
              "    border-radius: 50%;\n",
              "    cursor: pointer;\n",
              "    display: none;\n",
              "    fill: var(--fill-color);\n",
              "    height: 32px;\n",
              "    padding: 0;\n",
              "    width: 32px;\n",
              "  }\n",
              "\n",
              "  .colab-df-quickchart:hover {\n",
              "    background-color: var(--hover-bg-color);\n",
              "    box-shadow: 0 1px 2px rgba(60, 64, 67, 0.3), 0 1px 3px 1px rgba(60, 64, 67, 0.15);\n",
              "    fill: var(--button-hover-fill-color);\n",
              "  }\n",
              "\n",
              "  .colab-df-quickchart-complete:disabled,\n",
              "  .colab-df-quickchart-complete:disabled:hover {\n",
              "    background-color: var(--disabled-bg-color);\n",
              "    fill: var(--disabled-fill-color);\n",
              "    box-shadow: none;\n",
              "  }\n",
              "\n",
              "  .colab-df-spinner {\n",
              "    border: 2px solid var(--fill-color);\n",
              "    border-color: transparent;\n",
              "    border-bottom-color: var(--fill-color);\n",
              "    animation:\n",
              "      spin 1s steps(1) infinite;\n",
              "  }\n",
              "\n",
              "  @keyframes spin {\n",
              "    0% {\n",
              "      border-color: transparent;\n",
              "      border-bottom-color: var(--fill-color);\n",
              "      border-left-color: var(--fill-color);\n",
              "    }\n",
              "    20% {\n",
              "      border-color: transparent;\n",
              "      border-left-color: var(--fill-color);\n",
              "      border-top-color: var(--fill-color);\n",
              "    }\n",
              "    30% {\n",
              "      border-color: transparent;\n",
              "      border-left-color: var(--fill-color);\n",
              "      border-top-color: var(--fill-color);\n",
              "      border-right-color: var(--fill-color);\n",
              "    }\n",
              "    40% {\n",
              "      border-color: transparent;\n",
              "      border-right-color: var(--fill-color);\n",
              "      border-top-color: var(--fill-color);\n",
              "    }\n",
              "    60% {\n",
              "      border-color: transparent;\n",
              "      border-right-color: var(--fill-color);\n",
              "    }\n",
              "    80% {\n",
              "      border-color: transparent;\n",
              "      border-right-color: var(--fill-color);\n",
              "      border-bottom-color: var(--fill-color);\n",
              "    }\n",
              "    90% {\n",
              "      border-color: transparent;\n",
              "      border-bottom-color: var(--fill-color);\n",
              "    }\n",
              "  }\n",
              "</style>\n",
              "\n",
              "  <script>\n",
              "    async function quickchart(key) {\n",
              "      const quickchartButtonEl =\n",
              "        document.querySelector('#' + key + ' button');\n",
              "      quickchartButtonEl.disabled = true;  // To prevent multiple clicks.\n",
              "      quickchartButtonEl.classList.add('colab-df-spinner');\n",
              "      try {\n",
              "        const charts = await google.colab.kernel.invokeFunction(\n",
              "            'suggestCharts', [key], {});\n",
              "      } catch (error) {\n",
              "        console.error('Error during call to suggestCharts:', error);\n",
              "      }\n",
              "      quickchartButtonEl.classList.remove('colab-df-spinner');\n",
              "      quickchartButtonEl.classList.add('colab-df-quickchart-complete');\n",
              "    }\n",
              "    (() => {\n",
              "      let quickchartButtonEl =\n",
              "        document.querySelector('#df-69dba8d2-f344-48fa-9b05-0370b494a73c button');\n",
              "      quickchartButtonEl.style.display =\n",
              "        google.colab.kernel.accessAllowed ? 'block' : 'none';\n",
              "    })();\n",
              "  </script>\n",
              "</div>\n",
              "    </div>\n",
              "  </div>\n"
            ]
          },
          "metadata": {},
          "execution_count": 47
        }
      ]
    },
    {
      "cell_type": "code",
      "source": [
        "coef = pd.DataFrame(reg.coef_, index=X.columns, columns=['reg'])\n",
        "coef['lreg'] = lreg.coef_[0]\n",
        "pd.options.display.float_format = '{:.2f}'.format\n",
        "coef"
      ],
      "metadata": {
        "id": "lyvg4RVw_jei",
        "colab": {
          "base_uri": "https://localhost:8080/",
          "height": 332
        },
        "outputId": "f7eba05a-ce47-459c-922a-aaba34547b3d"
      },
      "execution_count": 48,
      "outputs": [
        {
          "output_type": "execute_result",
          "data": {
            "text/plain": [
              "             reg  lreg\n",
              "Pclass     -0.10 -0.58\n",
              "Sex        -0.50 -2.65\n",
              "Age        -0.01 -0.04\n",
              "Fare        0.01  0.06\n",
              "IsCabin     0.12  0.66\n",
              "FamilySize -0.05 -0.38\n",
              "Embarked_C  0.03  0.18\n",
              "Embarked_Q  0.01 -0.00\n",
              "Embarked_S -0.04 -0.27"
            ],
            "text/html": [
              "\n",
              "  <div id=\"df-e571a768-9361-4c9f-b241-e8905bc371e8\" class=\"colab-df-container\">\n",
              "    <div>\n",
              "<style scoped>\n",
              "    .dataframe tbody tr th:only-of-type {\n",
              "        vertical-align: middle;\n",
              "    }\n",
              "\n",
              "    .dataframe tbody tr th {\n",
              "        vertical-align: top;\n",
              "    }\n",
              "\n",
              "    .dataframe thead th {\n",
              "        text-align: right;\n",
              "    }\n",
              "</style>\n",
              "<table border=\"1\" class=\"dataframe\">\n",
              "  <thead>\n",
              "    <tr style=\"text-align: right;\">\n",
              "      <th></th>\n",
              "      <th>reg</th>\n",
              "      <th>lreg</th>\n",
              "    </tr>\n",
              "  </thead>\n",
              "  <tbody>\n",
              "    <tr>\n",
              "      <th>Pclass</th>\n",
              "      <td>-0.10</td>\n",
              "      <td>-0.58</td>\n",
              "    </tr>\n",
              "    <tr>\n",
              "      <th>Sex</th>\n",
              "      <td>-0.50</td>\n",
              "      <td>-2.65</td>\n",
              "    </tr>\n",
              "    <tr>\n",
              "      <th>Age</th>\n",
              "      <td>-0.01</td>\n",
              "      <td>-0.04</td>\n",
              "    </tr>\n",
              "    <tr>\n",
              "      <th>Fare</th>\n",
              "      <td>0.01</td>\n",
              "      <td>0.06</td>\n",
              "    </tr>\n",
              "    <tr>\n",
              "      <th>IsCabin</th>\n",
              "      <td>0.12</td>\n",
              "      <td>0.66</td>\n",
              "    </tr>\n",
              "    <tr>\n",
              "      <th>FamilySize</th>\n",
              "      <td>-0.05</td>\n",
              "      <td>-0.38</td>\n",
              "    </tr>\n",
              "    <tr>\n",
              "      <th>Embarked_C</th>\n",
              "      <td>0.03</td>\n",
              "      <td>0.18</td>\n",
              "    </tr>\n",
              "    <tr>\n",
              "      <th>Embarked_Q</th>\n",
              "      <td>0.01</td>\n",
              "      <td>-0.00</td>\n",
              "    </tr>\n",
              "    <tr>\n",
              "      <th>Embarked_S</th>\n",
              "      <td>-0.04</td>\n",
              "      <td>-0.27</td>\n",
              "    </tr>\n",
              "  </tbody>\n",
              "</table>\n",
              "</div>\n",
              "    <div class=\"colab-df-buttons\">\n",
              "\n",
              "  <div class=\"colab-df-container\">\n",
              "    <button class=\"colab-df-convert\" onclick=\"convertToInteractive('df-e571a768-9361-4c9f-b241-e8905bc371e8')\"\n",
              "            title=\"Convert this dataframe to an interactive table.\"\n",
              "            style=\"display:none;\">\n",
              "\n",
              "  <svg xmlns=\"http://www.w3.org/2000/svg\" height=\"24px\" viewBox=\"0 -960 960 960\">\n",
              "    <path d=\"M120-120v-720h720v720H120Zm60-500h600v-160H180v160Zm220 220h160v-160H400v160Zm0 220h160v-160H400v160ZM180-400h160v-160H180v160Zm440 0h160v-160H620v160ZM180-180h160v-160H180v160Zm440 0h160v-160H620v160Z\"/>\n",
              "  </svg>\n",
              "    </button>\n",
              "\n",
              "  <style>\n",
              "    .colab-df-container {\n",
              "      display:flex;\n",
              "      gap: 12px;\n",
              "    }\n",
              "\n",
              "    .colab-df-convert {\n",
              "      background-color: #E8F0FE;\n",
              "      border: none;\n",
              "      border-radius: 50%;\n",
              "      cursor: pointer;\n",
              "      display: none;\n",
              "      fill: #1967D2;\n",
              "      height: 32px;\n",
              "      padding: 0 0 0 0;\n",
              "      width: 32px;\n",
              "    }\n",
              "\n",
              "    .colab-df-convert:hover {\n",
              "      background-color: #E2EBFA;\n",
              "      box-shadow: 0px 1px 2px rgba(60, 64, 67, 0.3), 0px 1px 3px 1px rgba(60, 64, 67, 0.15);\n",
              "      fill: #174EA6;\n",
              "    }\n",
              "\n",
              "    .colab-df-buttons div {\n",
              "      margin-bottom: 4px;\n",
              "    }\n",
              "\n",
              "    [theme=dark] .colab-df-convert {\n",
              "      background-color: #3B4455;\n",
              "      fill: #D2E3FC;\n",
              "    }\n",
              "\n",
              "    [theme=dark] .colab-df-convert:hover {\n",
              "      background-color: #434B5C;\n",
              "      box-shadow: 0px 1px 3px 1px rgba(0, 0, 0, 0.15);\n",
              "      filter: drop-shadow(0px 1px 2px rgba(0, 0, 0, 0.3));\n",
              "      fill: #FFFFFF;\n",
              "    }\n",
              "  </style>\n",
              "\n",
              "    <script>\n",
              "      const buttonEl =\n",
              "        document.querySelector('#df-e571a768-9361-4c9f-b241-e8905bc371e8 button.colab-df-convert');\n",
              "      buttonEl.style.display =\n",
              "        google.colab.kernel.accessAllowed ? 'block' : 'none';\n",
              "\n",
              "      async function convertToInteractive(key) {\n",
              "        const element = document.querySelector('#df-e571a768-9361-4c9f-b241-e8905bc371e8');\n",
              "        const dataTable =\n",
              "          await google.colab.kernel.invokeFunction('convertToInteractive',\n",
              "                                                    [key], {});\n",
              "        if (!dataTable) return;\n",
              "\n",
              "        const docLinkHtml = 'Like what you see? Visit the ' +\n",
              "          '<a target=\"_blank\" href=https://colab.research.google.com/notebooks/data_table.ipynb>data table notebook</a>'\n",
              "          + ' to learn more about interactive tables.';\n",
              "        element.innerHTML = '';\n",
              "        dataTable['output_type'] = 'display_data';\n",
              "        await google.colab.output.renderOutput(dataTable, element);\n",
              "        const docLink = document.createElement('div');\n",
              "        docLink.innerHTML = docLinkHtml;\n",
              "        element.appendChild(docLink);\n",
              "      }\n",
              "    </script>\n",
              "  </div>\n",
              "\n",
              "\n",
              "<div id=\"df-3d92da20-3e9a-475c-8b7c-3936698f32ff\">\n",
              "  <button class=\"colab-df-quickchart\" onclick=\"quickchart('df-3d92da20-3e9a-475c-8b7c-3936698f32ff')\"\n",
              "            title=\"Suggest charts.\"\n",
              "            style=\"display:none;\">\n",
              "\n",
              "<svg xmlns=\"http://www.w3.org/2000/svg\" height=\"24px\"viewBox=\"0 0 24 24\"\n",
              "     width=\"24px\">\n",
              "    <g>\n",
              "        <path d=\"M19 3H5c-1.1 0-2 .9-2 2v14c0 1.1.9 2 2 2h14c1.1 0 2-.9 2-2V5c0-1.1-.9-2-2-2zM9 17H7v-7h2v7zm4 0h-2V7h2v10zm4 0h-2v-4h2v4z\"/>\n",
              "    </g>\n",
              "</svg>\n",
              "  </button>\n",
              "\n",
              "<style>\n",
              "  .colab-df-quickchart {\n",
              "      --bg-color: #E8F0FE;\n",
              "      --fill-color: #1967D2;\n",
              "      --hover-bg-color: #E2EBFA;\n",
              "      --hover-fill-color: #174EA6;\n",
              "      --disabled-fill-color: #AAA;\n",
              "      --disabled-bg-color: #DDD;\n",
              "  }\n",
              "\n",
              "  [theme=dark] .colab-df-quickchart {\n",
              "      --bg-color: #3B4455;\n",
              "      --fill-color: #D2E3FC;\n",
              "      --hover-bg-color: #434B5C;\n",
              "      --hover-fill-color: #FFFFFF;\n",
              "      --disabled-bg-color: #3B4455;\n",
              "      --disabled-fill-color: #666;\n",
              "  }\n",
              "\n",
              "  .colab-df-quickchart {\n",
              "    background-color: var(--bg-color);\n",
              "    border: none;\n",
              "    border-radius: 50%;\n",
              "    cursor: pointer;\n",
              "    display: none;\n",
              "    fill: var(--fill-color);\n",
              "    height: 32px;\n",
              "    padding: 0;\n",
              "    width: 32px;\n",
              "  }\n",
              "\n",
              "  .colab-df-quickchart:hover {\n",
              "    background-color: var(--hover-bg-color);\n",
              "    box-shadow: 0 1px 2px rgba(60, 64, 67, 0.3), 0 1px 3px 1px rgba(60, 64, 67, 0.15);\n",
              "    fill: var(--button-hover-fill-color);\n",
              "  }\n",
              "\n",
              "  .colab-df-quickchart-complete:disabled,\n",
              "  .colab-df-quickchart-complete:disabled:hover {\n",
              "    background-color: var(--disabled-bg-color);\n",
              "    fill: var(--disabled-fill-color);\n",
              "    box-shadow: none;\n",
              "  }\n",
              "\n",
              "  .colab-df-spinner {\n",
              "    border: 2px solid var(--fill-color);\n",
              "    border-color: transparent;\n",
              "    border-bottom-color: var(--fill-color);\n",
              "    animation:\n",
              "      spin 1s steps(1) infinite;\n",
              "  }\n",
              "\n",
              "  @keyframes spin {\n",
              "    0% {\n",
              "      border-color: transparent;\n",
              "      border-bottom-color: var(--fill-color);\n",
              "      border-left-color: var(--fill-color);\n",
              "    }\n",
              "    20% {\n",
              "      border-color: transparent;\n",
              "      border-left-color: var(--fill-color);\n",
              "      border-top-color: var(--fill-color);\n",
              "    }\n",
              "    30% {\n",
              "      border-color: transparent;\n",
              "      border-left-color: var(--fill-color);\n",
              "      border-top-color: var(--fill-color);\n",
              "      border-right-color: var(--fill-color);\n",
              "    }\n",
              "    40% {\n",
              "      border-color: transparent;\n",
              "      border-right-color: var(--fill-color);\n",
              "      border-top-color: var(--fill-color);\n",
              "    }\n",
              "    60% {\n",
              "      border-color: transparent;\n",
              "      border-right-color: var(--fill-color);\n",
              "    }\n",
              "    80% {\n",
              "      border-color: transparent;\n",
              "      border-right-color: var(--fill-color);\n",
              "      border-bottom-color: var(--fill-color);\n",
              "    }\n",
              "    90% {\n",
              "      border-color: transparent;\n",
              "      border-bottom-color: var(--fill-color);\n",
              "    }\n",
              "  }\n",
              "</style>\n",
              "\n",
              "  <script>\n",
              "    async function quickchart(key) {\n",
              "      const quickchartButtonEl =\n",
              "        document.querySelector('#' + key + ' button');\n",
              "      quickchartButtonEl.disabled = true;  // To prevent multiple clicks.\n",
              "      quickchartButtonEl.classList.add('colab-df-spinner');\n",
              "      try {\n",
              "        const charts = await google.colab.kernel.invokeFunction(\n",
              "            'suggestCharts', [key], {});\n",
              "      } catch (error) {\n",
              "        console.error('Error during call to suggestCharts:', error);\n",
              "      }\n",
              "      quickchartButtonEl.classList.remove('colab-df-spinner');\n",
              "      quickchartButtonEl.classList.add('colab-df-quickchart-complete');\n",
              "    }\n",
              "    (() => {\n",
              "      let quickchartButtonEl =\n",
              "        document.querySelector('#df-3d92da20-3e9a-475c-8b7c-3936698f32ff button');\n",
              "      quickchartButtonEl.style.display =\n",
              "        google.colab.kernel.accessAllowed ? 'block' : 'none';\n",
              "    })();\n",
              "  </script>\n",
              "</div>\n",
              "    </div>\n",
              "  </div>\n"
            ]
          },
          "metadata": {},
          "execution_count": 48
        }
      ]
    },
    {
      "cell_type": "code",
      "source": [],
      "metadata": {
        "id": "EDUM-SdjPYQu"
      },
      "execution_count": 48,
      "outputs": []
    }
  ]
}