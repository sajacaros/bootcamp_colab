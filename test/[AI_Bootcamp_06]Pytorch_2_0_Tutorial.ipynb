{
  "nbformat": 4,
  "nbformat_minor": 0,
  "metadata": {
    "colab": {
      "provenance": [],
      "gpuType": "T4",
      "include_colab_link": true
    },
    "kernelspec": {
      "name": "python3",
      "display_name": "Python 3"
    },
    "language_info": {
      "name": "python"
    },
    "accelerator": "GPU",
    "widgets": {
      "application/vnd.jupyter.widget-state+json": {
        "f7dc24e8787f4c5e92f11aa193672525": {
          "model_module": "@jupyter-widgets/controls",
          "model_name": "HBoxModel",
          "model_module_version": "1.5.0",
          "state": {
            "_dom_classes": [],
            "_model_module": "@jupyter-widgets/controls",
            "_model_module_version": "1.5.0",
            "_model_name": "HBoxModel",
            "_view_count": null,
            "_view_module": "@jupyter-widgets/controls",
            "_view_module_version": "1.5.0",
            "_view_name": "HBoxView",
            "box_style": "",
            "children": [
              "IPY_MODEL_e04da0bae2e34dd6bf502fa83902538a",
              "IPY_MODEL_0107c91b2f0748b8a7f221667609ba1e",
              "IPY_MODEL_d4d2728bf53b40e4a1d2d3603d348453"
            ],
            "layout": "IPY_MODEL_a471bc8370fc4347813a4de4862439eb"
          }
        },
        "e04da0bae2e34dd6bf502fa83902538a": {
          "model_module": "@jupyter-widgets/controls",
          "model_name": "HTMLModel",
          "model_module_version": "1.5.0",
          "state": {
            "_dom_classes": [],
            "_model_module": "@jupyter-widgets/controls",
            "_model_module_version": "1.5.0",
            "_model_name": "HTMLModel",
            "_view_count": null,
            "_view_module": "@jupyter-widgets/controls",
            "_view_module_version": "1.5.0",
            "_view_name": "HTMLView",
            "description": "",
            "description_tooltip": null,
            "layout": "IPY_MODEL_bdb0f67854764886b98906911a719031",
            "placeholder": "​",
            "style": "IPY_MODEL_fca77f5546124fa69f03f397b982d8b2",
            "value": "100%"
          }
        },
        "0107c91b2f0748b8a7f221667609ba1e": {
          "model_module": "@jupyter-widgets/controls",
          "model_name": "FloatProgressModel",
          "model_module_version": "1.5.0",
          "state": {
            "_dom_classes": [],
            "_model_module": "@jupyter-widgets/controls",
            "_model_module_version": "1.5.0",
            "_model_name": "FloatProgressModel",
            "_view_count": null,
            "_view_module": "@jupyter-widgets/controls",
            "_view_module_version": "1.5.0",
            "_view_name": "ProgressView",
            "bar_style": "success",
            "description": "",
            "description_tooltip": null,
            "layout": "IPY_MODEL_12403fd8ba9e4aff8b944262b06bf384",
            "max": 5,
            "min": 0,
            "orientation": "horizontal",
            "style": "IPY_MODEL_e89baa2358ca4eea8a294d04f6330a1b",
            "value": 5
          }
        },
        "d4d2728bf53b40e4a1d2d3603d348453": {
          "model_module": "@jupyter-widgets/controls",
          "model_name": "HTMLModel",
          "model_module_version": "1.5.0",
          "state": {
            "_dom_classes": [],
            "_model_module": "@jupyter-widgets/controls",
            "_model_module_version": "1.5.0",
            "_model_name": "HTMLModel",
            "_view_count": null,
            "_view_module": "@jupyter-widgets/controls",
            "_view_module_version": "1.5.0",
            "_view_name": "HTMLView",
            "description": "",
            "description_tooltip": null,
            "layout": "IPY_MODEL_b44990a5f9d64f3faeaa4cdc984ccce4",
            "placeholder": "​",
            "style": "IPY_MODEL_ed67a7602d0a426badf1f476509aea78",
            "value": " 5/5 [01:21&lt;00:00, 16.32s/it]"
          }
        },
        "a471bc8370fc4347813a4de4862439eb": {
          "model_module": "@jupyter-widgets/base",
          "model_name": "LayoutModel",
          "model_module_version": "1.2.0",
          "state": {
            "_model_module": "@jupyter-widgets/base",
            "_model_module_version": "1.2.0",
            "_model_name": "LayoutModel",
            "_view_count": null,
            "_view_module": "@jupyter-widgets/base",
            "_view_module_version": "1.2.0",
            "_view_name": "LayoutView",
            "align_content": null,
            "align_items": null,
            "align_self": null,
            "border": null,
            "bottom": null,
            "display": null,
            "flex": null,
            "flex_flow": null,
            "grid_area": null,
            "grid_auto_columns": null,
            "grid_auto_flow": null,
            "grid_auto_rows": null,
            "grid_column": null,
            "grid_gap": null,
            "grid_row": null,
            "grid_template_areas": null,
            "grid_template_columns": null,
            "grid_template_rows": null,
            "height": null,
            "justify_content": null,
            "justify_items": null,
            "left": null,
            "margin": null,
            "max_height": null,
            "max_width": null,
            "min_height": null,
            "min_width": null,
            "object_fit": null,
            "object_position": null,
            "order": null,
            "overflow": null,
            "overflow_x": null,
            "overflow_y": null,
            "padding": null,
            "right": null,
            "top": null,
            "visibility": null,
            "width": null
          }
        },
        "bdb0f67854764886b98906911a719031": {
          "model_module": "@jupyter-widgets/base",
          "model_name": "LayoutModel",
          "model_module_version": "1.2.0",
          "state": {
            "_model_module": "@jupyter-widgets/base",
            "_model_module_version": "1.2.0",
            "_model_name": "LayoutModel",
            "_view_count": null,
            "_view_module": "@jupyter-widgets/base",
            "_view_module_version": "1.2.0",
            "_view_name": "LayoutView",
            "align_content": null,
            "align_items": null,
            "align_self": null,
            "border": null,
            "bottom": null,
            "display": null,
            "flex": null,
            "flex_flow": null,
            "grid_area": null,
            "grid_auto_columns": null,
            "grid_auto_flow": null,
            "grid_auto_rows": null,
            "grid_column": null,
            "grid_gap": null,
            "grid_row": null,
            "grid_template_areas": null,
            "grid_template_columns": null,
            "grid_template_rows": null,
            "height": null,
            "justify_content": null,
            "justify_items": null,
            "left": null,
            "margin": null,
            "max_height": null,
            "max_width": null,
            "min_height": null,
            "min_width": null,
            "object_fit": null,
            "object_position": null,
            "order": null,
            "overflow": null,
            "overflow_x": null,
            "overflow_y": null,
            "padding": null,
            "right": null,
            "top": null,
            "visibility": null,
            "width": null
          }
        },
        "fca77f5546124fa69f03f397b982d8b2": {
          "model_module": "@jupyter-widgets/controls",
          "model_name": "DescriptionStyleModel",
          "model_module_version": "1.5.0",
          "state": {
            "_model_module": "@jupyter-widgets/controls",
            "_model_module_version": "1.5.0",
            "_model_name": "DescriptionStyleModel",
            "_view_count": null,
            "_view_module": "@jupyter-widgets/base",
            "_view_module_version": "1.2.0",
            "_view_name": "StyleView",
            "description_width": ""
          }
        },
        "12403fd8ba9e4aff8b944262b06bf384": {
          "model_module": "@jupyter-widgets/base",
          "model_name": "LayoutModel",
          "model_module_version": "1.2.0",
          "state": {
            "_model_module": "@jupyter-widgets/base",
            "_model_module_version": "1.2.0",
            "_model_name": "LayoutModel",
            "_view_count": null,
            "_view_module": "@jupyter-widgets/base",
            "_view_module_version": "1.2.0",
            "_view_name": "LayoutView",
            "align_content": null,
            "align_items": null,
            "align_self": null,
            "border": null,
            "bottom": null,
            "display": null,
            "flex": null,
            "flex_flow": null,
            "grid_area": null,
            "grid_auto_columns": null,
            "grid_auto_flow": null,
            "grid_auto_rows": null,
            "grid_column": null,
            "grid_gap": null,
            "grid_row": null,
            "grid_template_areas": null,
            "grid_template_columns": null,
            "grid_template_rows": null,
            "height": null,
            "justify_content": null,
            "justify_items": null,
            "left": null,
            "margin": null,
            "max_height": null,
            "max_width": null,
            "min_height": null,
            "min_width": null,
            "object_fit": null,
            "object_position": null,
            "order": null,
            "overflow": null,
            "overflow_x": null,
            "overflow_y": null,
            "padding": null,
            "right": null,
            "top": null,
            "visibility": null,
            "width": null
          }
        },
        "e89baa2358ca4eea8a294d04f6330a1b": {
          "model_module": "@jupyter-widgets/controls",
          "model_name": "ProgressStyleModel",
          "model_module_version": "1.5.0",
          "state": {
            "_model_module": "@jupyter-widgets/controls",
            "_model_module_version": "1.5.0",
            "_model_name": "ProgressStyleModel",
            "_view_count": null,
            "_view_module": "@jupyter-widgets/base",
            "_view_module_version": "1.2.0",
            "_view_name": "StyleView",
            "bar_color": null,
            "description_width": ""
          }
        },
        "b44990a5f9d64f3faeaa4cdc984ccce4": {
          "model_module": "@jupyter-widgets/base",
          "model_name": "LayoutModel",
          "model_module_version": "1.2.0",
          "state": {
            "_model_module": "@jupyter-widgets/base",
            "_model_module_version": "1.2.0",
            "_model_name": "LayoutModel",
            "_view_count": null,
            "_view_module": "@jupyter-widgets/base",
            "_view_module_version": "1.2.0",
            "_view_name": "LayoutView",
            "align_content": null,
            "align_items": null,
            "align_self": null,
            "border": null,
            "bottom": null,
            "display": null,
            "flex": null,
            "flex_flow": null,
            "grid_area": null,
            "grid_auto_columns": null,
            "grid_auto_flow": null,
            "grid_auto_rows": null,
            "grid_column": null,
            "grid_gap": null,
            "grid_row": null,
            "grid_template_areas": null,
            "grid_template_columns": null,
            "grid_template_rows": null,
            "height": null,
            "justify_content": null,
            "justify_items": null,
            "left": null,
            "margin": null,
            "max_height": null,
            "max_width": null,
            "min_height": null,
            "min_width": null,
            "object_fit": null,
            "object_position": null,
            "order": null,
            "overflow": null,
            "overflow_x": null,
            "overflow_y": null,
            "padding": null,
            "right": null,
            "top": null,
            "visibility": null,
            "width": null
          }
        },
        "ed67a7602d0a426badf1f476509aea78": {
          "model_module": "@jupyter-widgets/controls",
          "model_name": "DescriptionStyleModel",
          "model_module_version": "1.5.0",
          "state": {
            "_model_module": "@jupyter-widgets/controls",
            "_model_module_version": "1.5.0",
            "_model_name": "DescriptionStyleModel",
            "_view_count": null,
            "_view_module": "@jupyter-widgets/base",
            "_view_module_version": "1.2.0",
            "_view_name": "StyleView",
            "description_width": ""
          }
        }
      }
    }
  },
  "cells": [
    {
      "cell_type": "markdown",
      "metadata": {
        "id": "view-in-github",
        "colab_type": "text"
      },
      "source": [
        "<a href=\"https://colab.research.google.com/github/sajacaros/bootcamp_colab/blob/main/test/%5BAI_Bootcamp_06%5DPytorch_2_0_Tutorial.ipynb\" target=\"_parent\"><img src=\"https://colab.research.google.com/assets/colab-badge.svg\" alt=\"Open In Colab\"/></a>"
      ]
    },
    {
      "cell_type": "markdown",
      "source": [
        "## Pytorch 2.0\n",
        "\n",
        "- 기존 버젼인 1.13보다 훨씬 더 Pythonic 해졌다.\n",
        "\n",
        "- torch.compile의 발전으로 timm이나 Huggingface를 사용할 때 성능향상이 커졌다.\n",
        "\n",
        "- GPU에서 병렬 연산 최적화를 통해서 큰 모델에서도 효율적으로 연산이 가능해졌다.\n",
        "\n",
        "\n",
        "Reference : https://pytorch.org/blog/pytorch-2.0-release/"
      ],
      "metadata": {
        "id": "T0-s6DgSdnMt"
      }
    },
    {
      "cell_type": "markdown",
      "source": [
        "### CIFAR10 Classification\n",
        "\n",
        "- pytorch 2.0을 이용하여, CIFAR10 이미지 분류 문제를 풀어봅니다.\n",
        "\n",
        "1. CIFAR10 데이터를 불러오고, 기본적인 전처리를 수행합니다.\n",
        "\n",
        "2. 학습을 수행할 모델을 정의합니다.\n",
        "\n",
        "3. 학습에 사용할 loss function과 optimizer를 정의합니다.\n",
        "\n",
        "4. 학습을 수행합니다.\n",
        "\n",
        "5. 학습한 모델로 예측을 수행합니다."
      ],
      "metadata": {
        "id": "zeLlmMKpfQDR"
      }
    },
    {
      "cell_type": "code",
      "source": [
        "!pip install torchinfo"
      ],
      "metadata": {
        "colab": {
          "base_uri": "https://localhost:8080/"
        },
        "id": "wktK9NmLSHsO",
        "outputId": "0774cb4b-5601-43fe-ce0e-63843c1092d1"
      },
      "execution_count": null,
      "outputs": [
        {
          "output_type": "stream",
          "name": "stdout",
          "text": [
            "Requirement already satisfied: torchinfo in /usr/local/lib/python3.10/dist-packages (1.8.0)\n"
          ]
        }
      ]
    },
    {
      "cell_type": "code",
      "execution_count": null,
      "metadata": {
        "id": "oUNJ4cbjN90t"
      },
      "outputs": [],
      "source": [
        "import numpy as np\n",
        "import pandas as pd\n",
        "import matplotlib.pyplot as plt\n",
        "import seaborn as sns\n",
        "\n",
        "import random\n",
        "from time import time\n",
        "import os\n",
        "from tqdm.auto import tqdm\n",
        "\n",
        "# 파이토치 라이브러리와 필요한 모듈들을 불러옵니다.\n",
        "import torch\n",
        "import torchvision\n",
        "from torchinfo import summary"
      ]
    },
    {
      "cell_type": "code",
      "source": [
        "seed = 2023\n",
        "deterministic = True\n",
        "\n",
        "random.seed(seed)\n",
        "np.random.seed(seed)\n",
        "torch.manual_seed(seed)\n",
        "torch.cuda.manual_seed_all(seed)\n",
        "if deterministic:\n",
        "\ttorch.backends.cudnn.deterministic = True\n",
        "\ttorch.backends.cudnn.benchmark = False"
      ],
      "metadata": {
        "id": "VnG0wjBGzVyH"
      },
      "execution_count": null,
      "outputs": []
    },
    {
      "cell_type": "code",
      "source": [
        "!nvidia-smi"
      ],
      "metadata": {
        "id": "WgsDznkHUbu2",
        "colab": {
          "base_uri": "https://localhost:8080/"
        },
        "outputId": "47141f6d-6600-4f24-d7ca-fa65bd1fe364"
      },
      "execution_count": null,
      "outputs": [
        {
          "output_type": "stream",
          "name": "stdout",
          "text": [
            "Tue Oct 24 07:31:11 2023       \n",
            "+-----------------------------------------------------------------------------+\n",
            "| NVIDIA-SMI 525.105.17   Driver Version: 525.105.17   CUDA Version: 12.0     |\n",
            "|-------------------------------+----------------------+----------------------+\n",
            "| GPU  Name        Persistence-M| Bus-Id        Disp.A | Volatile Uncorr. ECC |\n",
            "| Fan  Temp  Perf  Pwr:Usage/Cap|         Memory-Usage | GPU-Util  Compute M. |\n",
            "|                               |                      |               MIG M. |\n",
            "|===============================+======================+======================|\n",
            "|   0  Tesla T4            Off  | 00000000:00:04.0 Off |                    0 |\n",
            "| N/A   63C    P0    29W /  70W |    883MiB / 15360MiB |      0%      Default |\n",
            "|                               |                      |                  N/A |\n",
            "+-------------------------------+----------------------+----------------------+\n",
            "                                                                               \n",
            "+-----------------------------------------------------------------------------+\n",
            "| Processes:                                                                  |\n",
            "|  GPU   GI   CI        PID   Type   Process name                  GPU Memory |\n",
            "|        ID   ID                                                   Usage      |\n",
            "|=============================================================================|\n",
            "+-----------------------------------------------------------------------------+\n"
          ]
        }
      ]
    },
    {
      "cell_type": "code",
      "source": [
        "print(torch.__version__)\n",
        "print(torchvision.__version__)\n",
        "print(os.cpu_count())"
      ],
      "metadata": {
        "id": "JUfmqJ6VecBY",
        "colab": {
          "base_uri": "https://localhost:8080/"
        },
        "outputId": "ccc62654-a25c-48b5-c2b7-92864cada1f8"
      },
      "execution_count": null,
      "outputs": [
        {
          "output_type": "stream",
          "name": "stdout",
          "text": [
            "2.1.0+cu118\n",
            "0.16.0+cu118\n",
            "2\n"
          ]
        }
      ]
    },
    {
      "cell_type": "markdown",
      "source": [
        "### 1. 전처리 함수 정의하기"
      ],
      "metadata": {
        "id": "_v0QRUFthDTl"
      }
    },
    {
      "cell_type": "code",
      "source": [
        "# 이미지 전처리에 필요한 transformation 함수를 정의\n",
        "from torchvision.transforms import transforms\n",
        "\n",
        "transform = transforms.Compose([\n",
        "    transforms.ToTensor(),  # numpy array를 torch.FloatTensor로 변환, [0,255]->[0.0, 1.0]\n",
        "    transforms.Normalize(mean=0.5, std=0.5)\n",
        "])"
      ],
      "metadata": {
        "id": "QNFyqmOQeo-o"
      },
      "execution_count": null,
      "outputs": []
    },
    {
      "cell_type": "code",
      "source": [
        "# torch에서 학습에 사용할 config variable들을 세팅합니다.\n",
        "num_workers = 2\n",
        "batch_size = 128\n",
        "learning_rate = 0.1\n",
        "epochs = 5"
      ],
      "metadata": {
        "id": "0_BLdMbiiq0h"
      },
      "execution_count": null,
      "outputs": []
    },
    {
      "cell_type": "code",
      "source": [
        "from torch.utils.data import dataset\n",
        "# Data Load\n",
        "trainset = torchvision.datasets.MNIST(\n",
        "    root='./',\n",
        "    train=True, # trainset을 가져옴(60000장)\n",
        "    download=True,\n",
        "    transform=transform,\n",
        ")\n",
        "trainloader = torch.utils.data.DataLoader(\n",
        "    dataset=trainset,\n",
        "    batch_size=batch_size,\n",
        "    shuffle=True,\n",
        "    num_workers=num_workers\n",
        ")\n",
        "testset = torchvision.datasets.MNIST(\n",
        "    root='./',\n",
        "    train=False,\n",
        "    download=True,\n",
        "    transform=transform,\n",
        ")\n",
        "testloader = torch.utils.data.DataLoader(\n",
        "    dataset=testset,\n",
        "    batch_size=batch_size,\n",
        "    shuffle=False,\n",
        "    num_workers=num_workers,\n",
        ")\n",
        "classes = (0,1,2,3,4,5,6,7,8,9,)"
      ],
      "metadata": {
        "id": "i5D87dtml2gi"
      },
      "execution_count": null,
      "outputs": []
    },
    {
      "cell_type": "code",
      "source": [
        "# show images\n",
        "\n",
        "def imshow(img):\n",
        "    img = img/2 + 0.5  # unnormalize\n",
        "    npimg = img.numpy()\n",
        "    plt.imshow(np.transpose(npimg, (1, 2, 0)))\n",
        "    plt.show()\n",
        "\n",
        "# iterator를 이용해서 데이터를 불러오게 만듭니다. (batch processing을 위해서)\n",
        "dataiter = iter(trainloader)  # trainloader를 iterator로 선언.\n",
        "images, labels = next(dataiter) # next 함수는 iterator의 반복 수행함.\n",
        "\n",
        "imshow(torchvision.utils.make_grid(images))\n",
        "print(' '.join(f'{classes[labels[j]]}' for j in range(batch_size)))"
      ],
      "metadata": {
        "id": "YQS2dRksnGxr",
        "colab": {
          "base_uri": "https://localhost:8080/",
          "height": 473
        },
        "outputId": "2203872b-5fee-4a40-a971-7f82e38f3fd1"
      },
      "execution_count": null,
      "outputs": [
        {
          "output_type": "display_data",
          "data": {
            "text/plain": [
              "<Figure size 640x480 with 1 Axes>"
            ],
            "image/png": "[encoded data removed]"
          },
          "metadata": {}
        },
        {
          "output_type": "stream",
          "name": "stdout",
          "text": [
            "6 4 2 0 7 2 4 7 4 8 8 3 2 6 2 3 2 5 6 9 0 9 4 1 8 3 3 0 7 0 6 4 6 3 6 4 7 0 6 4 6 8 7 2 2 2 1 8 5 9 9 7 6 1 2 7 4 1 8 3 4 3 0 5 4 1 3 8 4 1 1 5 3 9 7 1 2 2 7 0 6 2 4 5 8 9 4 0 2 2 8 4 8 2 4 4 6 9 6 8 4 4 1 8 1 1 1 5 9 0 0 8 4 6 3 7 7 3 4 8 6 5 5 1 3 0 1 8\n"
          ]
        }
      ]
    },
    {
      "cell_type": "code",
      "source": [
        "# shape을 확인합니다.\n",
        "print(images.shape, labels.shape)"
      ],
      "metadata": {
        "id": "FIwZb7SGw0b9",
        "colab": {
          "base_uri": "https://localhost:8080/"
        },
        "outputId": "34544785-163b-47c1-b5ed-824142df355c"
      },
      "execution_count": null,
      "outputs": [
        {
          "output_type": "stream",
          "name": "stdout",
          "text": [
            "torch.Size([128, 1, 28, 28]) torch.Size([128])\n"
          ]
        }
      ]
    },
    {
      "cell_type": "markdown",
      "source": [
        "### 2. 학습 모델 정의\n",
        "\n",
        "\n",
        "- 이미지 분류에 주로 쓰이는 모델은 CNN입니다.\n",
        "\n",
        "\n",
        "- 처음에는 그냥 MLP(FCN)으로 구현을 하고, (나중에)Convolution 연산들을 추가해봅니다.\n",
        "\n",
        "\n",
        "**모델 아키텍쳐**\n",
        "\n",
        "- MLP : Input() -> Flatten() -> Linear() -> Linear() -> Linear()"
      ],
      "metadata": {
        "id": "itV8TTmXo7Jv"
      }
    },
    {
      "cell_type": "code",
      "source": [
        "import torch.nn as nn\n",
        "\n",
        "# 모델 구현에 필요한 레이어들을 정의합니다.\n",
        "class MLP(nn.Module):\n",
        "    def __init__(self):\n",
        "        super().__init__()\n",
        "\n",
        "        # 3Layer-NN (input, hidden1, hidden2, output)\n",
        "        self.fc1 = nn.Linear(in_features=1*28*28, out_features=512) # input => hidden1\n",
        "        self.fc2 = nn.Linear(in_features=512, out_features=128) # hidden1 => hidden2\n",
        "        self.fc3 = nn.Linear(in_features=128, out_features=10) # hidden2 => output\n",
        "        self.relu = nn.ReLU() # activation layer\n",
        "        self.softmax = nn.Softmax(dim=1) # (batch_size, output_layer_size)\n",
        "\n",
        "    def forward(self, x):\n",
        "        # feed-forward 연산을 구현합니다.\n",
        "        x = torch.flatten(input=x, start_dim=1, end_dim=-1)\n",
        "        x = self.relu(self.fc1(x))\n",
        "        x = self.relu(self.fc2(x))\n",
        "        x = self.softmax(self.fc3(x))\n",
        "        return x\n"
      ],
      "metadata": {
        "id": "sJK-g7qio1KD"
      },
      "execution_count": null,
      "outputs": []
    },
    {
      "cell_type": "code",
      "source": [],
      "metadata": {
        "id": "CWKHirQugfV7"
      },
      "execution_count": null,
      "outputs": []
    },
    {
      "cell_type": "code",
      "source": [
        "device = torch.device(\"cuda:0\" if torch.cuda.is_available() else \"cpu\")\n",
        "print(device)"
      ],
      "metadata": {
        "id": "OPCtD77zvMWY",
        "colab": {
          "base_uri": "https://localhost:8080/"
        },
        "outputId": "55301351-09e2-431e-95b1-bb61aa132df1"
      },
      "execution_count": null,
      "outputs": [
        {
          "output_type": "stream",
          "name": "stdout",
          "text": [
            "cuda:0\n"
          ]
        }
      ]
    },
    {
      "cell_type": "code",
      "source": [
        "model = MLP().to(device)\n",
        "model"
      ],
      "metadata": {
        "id": "aOTUCFqZvO4z",
        "colab": {
          "base_uri": "https://localhost:8080/"
        },
        "outputId": "38ce67f9-a7fb-4b29-c7aa-c15305edeb5f"
      },
      "execution_count": null,
      "outputs": [
        {
          "output_type": "execute_result",
          "data": {
            "text/plain": [
              "MLP(\n",
              "  (fc1): Linear(in_features=784, out_features=512, bias=True)\n",
              "  (fc2): Linear(in_features=512, out_features=128, bias=True)\n",
              "  (fc3): Linear(in_features=128, out_features=10, bias=True)\n",
              "  (relu): ReLU()\n",
              "  (softmax): Softmax(dim=1)\n",
              ")"
            ]
          },
          "metadata": {},
          "execution_count": 130
        }
      ]
    },
    {
      "cell_type": "code",
      "source": [
        "!nvidia-smi"
      ],
      "metadata": {
        "colab": {
          "base_uri": "https://localhost:8080/"
        },
        "id": "ifRq7YAQbDCU",
        "outputId": "5ff2df3c-3427-4546-9a57-0c867b6a94cf"
      },
      "execution_count": null,
      "outputs": [
        {
          "output_type": "stream",
          "name": "stdout",
          "text": [
            "Tue Oct 24 07:31:12 2023       \n",
            "+-----------------------------------------------------------------------------+\n",
            "| NVIDIA-SMI 525.105.17   Driver Version: 525.105.17   CUDA Version: 12.0     |\n",
            "|-------------------------------+----------------------+----------------------+\n",
            "| GPU  Name        Persistence-M| Bus-Id        Disp.A | Volatile Uncorr. ECC |\n",
            "| Fan  Temp  Perf  Pwr:Usage/Cap|         Memory-Usage | GPU-Util  Compute M. |\n",
            "|                               |                      |               MIG M. |\n",
            "|===============================+======================+======================|\n",
            "|   0  Tesla T4            Off  | 00000000:00:04.0 Off |                    0 |\n",
            "| N/A   63C    P0    29W /  70W |    883MiB / 15360MiB |      0%      Default |\n",
            "|                               |                      |                  N/A |\n",
            "+-------------------------------+----------------------+----------------------+\n",
            "                                                                               \n",
            "+-----------------------------------------------------------------------------+\n",
            "| Processes:                                                                  |\n",
            "|  GPU   GI   CI        PID   Type   Process name                  GPU Memory |\n",
            "|        ID   ID                                                   Usage      |\n",
            "|=============================================================================|\n",
            "+-----------------------------------------------------------------------------+\n"
          ]
        }
      ]
    },
    {
      "cell_type": "code",
      "source": [
        "summary(model)\n",
        "# 200960 -> (784+1) * 256\n",
        "# 16448 -> (256+1) * 64\n",
        "# 650 -> (64+1) * 10"
      ],
      "metadata": {
        "id": "66WSnsqmm-LP",
        "colab": {
          "base_uri": "https://localhost:8080/"
        },
        "outputId": "bd34022d-8abe-4a4d-8388-a80f66b49d2a"
      },
      "execution_count": null,
      "outputs": [
        {
          "output_type": "execute_result",
          "data": {
            "text/plain": [
              "=================================================================\n",
              "Layer (type:depth-idx)                   Param #\n",
              "=================================================================\n",
              "MLP                                      --\n",
              "├─Linear: 1-1                            401,920\n",
              "├─Linear: 1-2                            65,664\n",
              "├─Linear: 1-3                            1,290\n",
              "├─ReLU: 1-4                              --\n",
              "├─Softmax: 1-5                           --\n",
              "=================================================================\n",
              "Total params: 468,874\n",
              "Trainable params: 468,874\n",
              "Non-trainable params: 0\n",
              "================================================================="
            ]
          },
          "metadata": {},
          "execution_count": 132
        }
      ]
    },
    {
      "cell_type": "code",
      "source": [
        "# show params\n",
        "for p in model.parameters():\n",
        "  print(p.shape)"
      ],
      "metadata": {
        "id": "-Bi1bydwgmdF",
        "colab": {
          "base_uri": "https://localhost:8080/"
        },
        "outputId": "82e9d0f2-f4f8-44af-8d39-aca4681190e1"
      },
      "execution_count": null,
      "outputs": [
        {
          "output_type": "stream",
          "name": "stdout",
          "text": [
            "torch.Size([512, 784])\n",
            "torch.Size([512])\n",
            "torch.Size([128, 512])\n",
            "torch.Size([128])\n",
            "torch.Size([10, 128])\n",
            "torch.Size([10])\n"
          ]
        }
      ]
    },
    {
      "cell_type": "markdown",
      "source": [
        "### 3. Optimizer와 Loss function 정의\n",
        "\n",
        "\n",
        "- 학습에 가장 많이 사용하는 optimizer는 Adam입니다.\n",
        "\n",
        "\n",
        "- 가장 기본이 되는 SGD(Stochastic Gradient Descent)와 Adam을 구현해서 비교해봅시다.\n",
        "\n",
        "- multiclass classification에서 사용하는 loss function은 cross-entropy입니다."
      ],
      "metadata": {
        "id": "RAeA6l91xZZd"
      }
    },
    {
      "cell_type": "code",
      "source": [
        "# import optimizers\n",
        "import torch.optim as optim\n",
        "\n",
        "optimizer = optim.SGD(model.parameters(), lr=learning_rate)\n",
        "criterion = nn.CrossEntropyLoss()"
      ],
      "metadata": {
        "id": "n8mxBEjEvQOO"
      },
      "execution_count": null,
      "outputs": []
    },
    {
      "cell_type": "markdown",
      "source": [
        "### 4. 학습\n",
        "\n",
        "- pytorch에서는 학습을 위해서 train 함수와 test 함수를 직접 구현해야합니다.\n",
        "\n",
        "- 처음에는 직접 for문을 통해서 batch 단위 학습 코드를 구현해봅시다."
      ],
      "metadata": {
        "id": "3BXKr9bty8dU"
      }
    },
    {
      "cell_type": "code",
      "source": [
        "len(trainset), len(trainloader)"
      ],
      "metadata": {
        "colab": {
          "base_uri": "https://localhost:8080/"
        },
        "id": "6Z0-X7TRNZog",
        "outputId": "c1218983-4a09-4cf0-e5ec-26684b1b1391"
      },
      "execution_count": null,
      "outputs": [
        {
          "output_type": "execute_result",
          "data": {
            "text/plain": [
              "(60000, 469)"
            ]
          },
          "metadata": {},
          "execution_count": 135
        }
      ]
    },
    {
      "cell_type": "code",
      "source": [
        "start = time()\n",
        "\n",
        "# for문을 이용하여 epoch마다 학습을 수행하는 코드를 작성합니다.\n",
        "# 1 epoch : 전체 데이터를 다 학습시킨 경우\n",
        "# 1 iteration : 1 weight update\n",
        "# 1 epoch data size = batch_size * iterations\n",
        "# 60000 = 600 x 100 --> weight update 100번(batch_size의 loss 평균으로..)\n",
        "# 60000 = 128 x 469 --> weight update 469번(batch_size의 loss 평균으로..)\n",
        "\n",
        "# total iterations = epochs(5) x iterations(469)\n",
        "\n",
        "for epoch in tqdm(range(epochs)):\n",
        "  n_correct = 0\n",
        "  n_loss = 0\n",
        "  for idx, data in enumerate(trainloader):\n",
        "    optimizer.zero_grad()\n",
        "\n",
        "    ### fee forward\n",
        "    if torch.cuda.is_available():\n",
        "      images, labels = data[0].to(device), data[1].to(device) # GPU version\n",
        "    else:\n",
        "      images, labels = data[0], data[1] # CPU version\n",
        "\n",
        "    outputs = model(images) # forward\n",
        "    loss = criterion(outputs, labels) # compute loss\n",
        "    # if idx % 100 == 0 or idx % 450 == 0:\n",
        "      # print(f\"epoch {epoch} : {idx:4} iteration -> {loss.item():.4f}\") # loss value\n",
        "\n",
        "    n_loss += loss.item()\n",
        "    n_correct += (torch.max(outputs, dim=1)[1] == labels).sum()\n",
        "\n",
        "    ### back propagation\n",
        "    loss.backward() # loss를 가지고 gradient 계산\n",
        "    optimizer.step() # optimizer를 이용해서 wegith를 update 수행\n",
        "\n",
        "  print(f'{epoch=}, train acuracy : {n_correct/len(trainset):.4f}, train loss : {n_loss/len(trainloader):.4f}')\n",
        "\n",
        "end = time()\n",
        "\n",
        "print(\"Training Done.\")\n",
        "print(f\"Elasped Time : {end-start:.4f} secs., loss : {loss.item():.4f}\")"
      ],
      "metadata": {
        "id": "av0_AB3EyEsG",
        "colab": {
          "base_uri": "https://localhost:8080/",
          "height": 178,
          "referenced_widgets": [
            "f7dc24e8787f4c5e92f11aa193672525",
            "e04da0bae2e34dd6bf502fa83902538a",
            "0107c91b2f0748b8a7f221667609ba1e",
            "d4d2728bf53b40e4a1d2d3603d348453",
            "a471bc8370fc4347813a4de4862439eb",
            "bdb0f67854764886b98906911a719031",
            "fca77f5546124fa69f03f397b982d8b2",
            "12403fd8ba9e4aff8b944262b06bf384",
            "e89baa2358ca4eea8a294d04f6330a1b",
            "b44990a5f9d64f3faeaa4cdc984ccce4",
            "ed67a7602d0a426badf1f476509aea78"
          ]
        },
        "outputId": "f00ec6e7-e32b-447d-dade-55fc45e986fd"
      },
      "execution_count": null,
      "outputs": [
        {
          "output_type": "display_data",
          "data": {
            "text/plain": [
              "  0%|          | 0/5 [00:00<?, ?it/s]"
            ],
            "application/vnd.jupyter.widget-view+json": {
              "version_major": 2,
              "version_minor": 0,
              "model_id": "f7dc24e8787f4c5e92f11aa193672525"
            }
          },
          "metadata": {}
        },
        {
          "output_type": "stream",
          "name": "stdout",
          "text": [
            "epoch=0, train acuracy : 0.5866, train loss : 1.9179\n",
            "epoch=1, train acuracy : 0.8848, train loss : 1.5965\n",
            "epoch=2, train acuracy : 0.9053, train loss : 1.5663\n",
            "epoch=3, train acuracy : 0.9137, train loss : 1.5549\n",
            "epoch=4, train acuracy : 0.9215, train loss : 1.5462\n",
            "Training Done.\n",
            "Elasped Time : 81.6493 secs., loss : 1.5230\n"
          ]
        }
      ]
    },
    {
      "cell_type": "code",
      "source": [
        "!pip install graphviz torchview"
      ],
      "metadata": {
        "colab": {
          "base_uri": "https://localhost:8080/"
        },
        "id": "s9ek-vsISn64",
        "outputId": "55a3b071-5fee-4ca4-a7b1-99e7d93962a8"
      },
      "execution_count": null,
      "outputs": [
        {
          "output_type": "stream",
          "name": "stdout",
          "text": [
            "Requirement already satisfied: graphviz in /usr/local/lib/python3.10/dist-packages (0.20.1)\n",
            "Requirement already satisfied: torchview in /usr/local/lib/python3.10/dist-packages (0.2.6)\n"
          ]
        }
      ]
    },
    {
      "cell_type": "code",
      "source": [
        "from torchview import draw_graph\n",
        "\n",
        "model_graph = draw_graph(model, input_size=(batch_size, 28*28))\n",
        "model_graph.visual_graph"
      ],
      "metadata": {
        "colab": {
          "base_uri": "https://localhost:8080/",
          "height": 892
        },
        "id": "ej2qIb9RSv5w",
        "outputId": "9f97c77b-0f4d-41ac-ea83-e745a89d7945"
      },
      "execution_count": null,
      "outputs": [
        {
          "output_type": "execute_result",
          "data": {
            "image/svg+xml": "<?xml version=\"1.0\" encoding=\"UTF-8\" standalone=\"no\"?>\n<!DOCTYPE svg PUBLIC \"-//W3C//DTD SVG 1.1//EN\"\n \"http://www.w3.org/Graphics/SVG/1.1/DTD/svg11.dtd\">\n<!-- Generated by graphviz version 2.43.0 (0)\n -->\n<!-- Title: model Pages: 1 -->\n<svg width=\"197pt\" height=\"654pt\"\n viewBox=\"0.00 0.00 197.00 654.00\" xmlns=\"http://www.w3.org/2000/svg\" xmlns:xlink=\"http://www.w3.org/1999/xlink\">\n<g id=\"graph0\" class=\"graph\" transform=\"scale(1 1) rotate(0) translate(4 650)\">\n<title>model</title>\n<polygon fill=\"white\" stroke=\"transparent\" points=\"-4,4 -4,-650 193,-650 193,4 -4,4\"/>\n<!-- 0 -->\n<g id=\"node1\" class=\"node\">\n<title>0</title>\n<polygon fill=\"lightyellow\" stroke=\"transparent\" points=\"171.5,-646 17.5,-646 17.5,-614 171.5,-614 171.5,-646\"/>\n<polygon fill=\"none\" stroke=\"black\" points=\"17.5,-614 17.5,-646 100.5,-646 100.5,-614 17.5,-614\"/>\n<text text-anchor=\"start\" x=\"22.5\" y=\"-633\" font-family=\"Linux libertine\" font-size=\"10.00\">input&#45;tensor</text>\n<text text-anchor=\"start\" x=\"37.5\" y=\"-622\" font-family=\"Linux libertine\" font-size=\"10.00\">depth:0</text>\n<polygon fill=\"none\" stroke=\"black\" points=\"100.5,-614 100.5,-646 171.5,-646 171.5,-614 100.5,-614\"/>\n<text text-anchor=\"start\" x=\"105.5\" y=\"-627.5\" font-family=\"Linux libertine\" font-size=\"10.00\">(128, 784)</text>\n</g>\n<!-- 1 -->\n<g id=\"node2\" class=\"node\">\n<title>1</title>\n<polygon fill=\"aliceblue\" stroke=\"transparent\" points=\"189,-578 0,-578 0,-536 189,-536 189,-578\"/>\n<polygon fill=\"none\" stroke=\"black\" points=\"0.5,-536 0.5,-578 53.5,-578 53.5,-536 0.5,-536\"/>\n<text text-anchor=\"start\" x=\"5.5\" y=\"-560\" font-family=\"Linux libertine\" font-size=\"10.00\">flatten</text>\n<text text-anchor=\"start\" x=\"5.5\" y=\"-549\" font-family=\"Linux libertine\" font-size=\"10.00\">depth:1</text>\n<polygon fill=\"none\" stroke=\"black\" points=\"53.5,-557 53.5,-578 112.5,-578 112.5,-557 53.5,-557\"/>\n<text text-anchor=\"start\" x=\"64.5\" y=\"-565\" font-family=\"Linux libertine\" font-size=\"10.00\">input:</text>\n<polygon fill=\"none\" stroke=\"black\" points=\"112.5,-557 112.5,-578 189.5,-578 189.5,-557 112.5,-557\"/>\n<text text-anchor=\"start\" x=\"117.5\" y=\"-565\" font-family=\"Linux libertine\" font-size=\"10.00\">(128, 784) </text>\n<polygon fill=\"none\" stroke=\"black\" points=\"53.5,-536 53.5,-557 112.5,-557 112.5,-536 53.5,-536\"/>\n<text text-anchor=\"start\" x=\"58.5\" y=\"-544\" font-family=\"Linux libertine\" font-size=\"10.00\">output: </text>\n<polygon fill=\"none\" stroke=\"black\" points=\"112.5,-536 112.5,-557 189.5,-557 189.5,-536 112.5,-536\"/>\n<text text-anchor=\"start\" x=\"117.5\" y=\"-544\" font-family=\"Linux libertine\" font-size=\"10.00\">(128, 784) </text>\n</g>\n<!-- 0&#45;&gt;1 -->\n<g id=\"edge1\" class=\"edge\">\n<title>0&#45;&gt;1</title>\n<path fill=\"none\" stroke=\"black\" d=\"M94.5,-613.94C94.5,-606.45 94.5,-597.12 94.5,-588.24\"/>\n<polygon fill=\"black\" stroke=\"black\" points=\"98,-588.16 94.5,-578.16 91,-588.16 98,-588.16\"/>\n</g>\n<!-- 2 -->\n<g id=\"node3\" class=\"node\">\n<title>2</title>\n<polygon fill=\"#c1ffc1\" stroke=\"transparent\" points=\"189,-500 0,-500 0,-458 189,-458 189,-500\"/>\n<polygon fill=\"none\" stroke=\"black\" points=\"0.5,-458 0.5,-500 53.5,-500 53.5,-458 0.5,-458\"/>\n<text text-anchor=\"start\" x=\"8.5\" y=\"-482\" font-family=\"Linux libertine\" font-size=\"10.00\">Linear</text>\n<text text-anchor=\"start\" x=\"5.5\" y=\"-471\" font-family=\"Linux libertine\" font-size=\"10.00\">depth:1</text>\n<polygon fill=\"none\" stroke=\"black\" points=\"53.5,-479 53.5,-500 112.5,-500 112.5,-479 53.5,-479\"/>\n<text text-anchor=\"start\" x=\"64.5\" y=\"-487\" font-family=\"Linux libertine\" font-size=\"10.00\">input:</text>\n<polygon fill=\"none\" stroke=\"black\" points=\"112.5,-479 112.5,-500 189.5,-500 189.5,-479 112.5,-479\"/>\n<text text-anchor=\"start\" x=\"117.5\" y=\"-487\" font-family=\"Linux libertine\" font-size=\"10.00\">(128, 784) </text>\n<polygon fill=\"none\" stroke=\"black\" points=\"53.5,-458 53.5,-479 112.5,-479 112.5,-458 53.5,-458\"/>\n<text text-anchor=\"start\" x=\"58.5\" y=\"-466\" font-family=\"Linux libertine\" font-size=\"10.00\">output: </text>\n<polygon fill=\"none\" stroke=\"black\" points=\"112.5,-458 112.5,-479 189.5,-479 189.5,-458 112.5,-458\"/>\n<text text-anchor=\"start\" x=\"117.5\" y=\"-466\" font-family=\"Linux libertine\" font-size=\"10.00\">(128, 512) </text>\n</g>\n<!-- 1&#45;&gt;2 -->\n<g id=\"edge2\" class=\"edge\">\n<title>1&#45;&gt;2</title>\n<path fill=\"none\" stroke=\"black\" d=\"M94.5,-535.63C94.5,-527.82 94.5,-518.73 94.5,-510.18\"/>\n<polygon fill=\"black\" stroke=\"black\" points=\"98,-510.16 94.5,-500.16 91,-510.16 98,-510.16\"/>\n</g>\n<!-- 3 -->\n<g id=\"node4\" class=\"node\">\n<title>3</title>\n<polygon fill=\"#c1ffc1\" stroke=\"transparent\" points=\"189,-422 0,-422 0,-380 189,-380 189,-422\"/>\n<polygon fill=\"none\" stroke=\"black\" points=\"0.5,-380 0.5,-422 53.5,-422 53.5,-380 0.5,-380\"/>\n<text text-anchor=\"start\" x=\"14.5\" y=\"-404\" font-family=\"Linux libertine\" font-size=\"10.00\">ReLU</text>\n<text text-anchor=\"start\" x=\"5.5\" y=\"-393\" font-family=\"Linux libertine\" font-size=\"10.00\">depth:1</text>\n<polygon fill=\"none\" stroke=\"black\" points=\"53.5,-401 53.5,-422 112.5,-422 112.5,-401 53.5,-401\"/>\n<text text-anchor=\"start\" x=\"64.5\" y=\"-409\" font-family=\"Linux libertine\" font-size=\"10.00\">input:</text>\n<polygon fill=\"none\" stroke=\"black\" points=\"112.5,-401 112.5,-422 189.5,-422 189.5,-401 112.5,-401\"/>\n<text text-anchor=\"start\" x=\"117.5\" y=\"-409\" font-family=\"Linux libertine\" font-size=\"10.00\">(128, 512) </text>\n<polygon fill=\"none\" stroke=\"black\" points=\"53.5,-380 53.5,-401 112.5,-401 112.5,-380 53.5,-380\"/>\n<text text-anchor=\"start\" x=\"58.5\" y=\"-388\" font-family=\"Linux libertine\" font-size=\"10.00\">output: </text>\n<polygon fill=\"none\" stroke=\"black\" points=\"112.5,-380 112.5,-401 189.5,-401 189.5,-380 112.5,-380\"/>\n<text text-anchor=\"start\" x=\"117.5\" y=\"-388\" font-family=\"Linux libertine\" font-size=\"10.00\">(128, 512) </text>\n</g>\n<!-- 2&#45;&gt;3 -->\n<g id=\"edge3\" class=\"edge\">\n<title>2&#45;&gt;3</title>\n<path fill=\"none\" stroke=\"black\" d=\"M94.5,-457.63C94.5,-449.82 94.5,-440.73 94.5,-432.18\"/>\n<polygon fill=\"black\" stroke=\"black\" points=\"98,-432.16 94.5,-422.16 91,-432.16 98,-432.16\"/>\n</g>\n<!-- 4 -->\n<g id=\"node5\" class=\"node\">\n<title>4</title>\n<polygon fill=\"#c1ffc1\" stroke=\"transparent\" points=\"189,-344 0,-344 0,-302 189,-302 189,-344\"/>\n<polygon fill=\"none\" stroke=\"black\" points=\"0.5,-302 0.5,-344 53.5,-344 53.5,-302 0.5,-302\"/>\n<text text-anchor=\"start\" x=\"8.5\" y=\"-326\" font-family=\"Linux libertine\" font-size=\"10.00\">Linear</text>\n<text text-anchor=\"start\" x=\"5.5\" y=\"-315\" font-family=\"Linux libertine\" font-size=\"10.00\">depth:1</text>\n<polygon fill=\"none\" stroke=\"black\" points=\"53.5,-323 53.5,-344 112.5,-344 112.5,-323 53.5,-323\"/>\n<text text-anchor=\"start\" x=\"64.5\" y=\"-331\" font-family=\"Linux libertine\" font-size=\"10.00\">input:</text>\n<polygon fill=\"none\" stroke=\"black\" points=\"112.5,-323 112.5,-344 189.5,-344 189.5,-323 112.5,-323\"/>\n<text text-anchor=\"start\" x=\"117.5\" y=\"-331\" font-family=\"Linux libertine\" font-size=\"10.00\">(128, 512) </text>\n<polygon fill=\"none\" stroke=\"black\" points=\"53.5,-302 53.5,-323 112.5,-323 112.5,-302 53.5,-302\"/>\n<text text-anchor=\"start\" x=\"58.5\" y=\"-310\" font-family=\"Linux libertine\" font-size=\"10.00\">output: </text>\n<polygon fill=\"none\" stroke=\"black\" points=\"112.5,-302 112.5,-323 189.5,-323 189.5,-302 112.5,-302\"/>\n<text text-anchor=\"start\" x=\"117.5\" y=\"-310\" font-family=\"Linux libertine\" font-size=\"10.00\">(128, 128) </text>\n</g>\n<!-- 3&#45;&gt;4 -->\n<g id=\"edge4\" class=\"edge\">\n<title>3&#45;&gt;4</title>\n<path fill=\"none\" stroke=\"black\" d=\"M94.5,-379.63C94.5,-371.82 94.5,-362.73 94.5,-354.18\"/>\n<polygon fill=\"black\" stroke=\"black\" points=\"98,-354.16 94.5,-344.16 91,-354.16 98,-354.16\"/>\n</g>\n<!-- 5 -->\n<g id=\"node6\" class=\"node\">\n<title>5</title>\n<polygon fill=\"#c1ffc1\" stroke=\"transparent\" points=\"189,-266 0,-266 0,-224 189,-224 189,-266\"/>\n<polygon fill=\"none\" stroke=\"black\" points=\"0.5,-224 0.5,-266 53.5,-266 53.5,-224 0.5,-224\"/>\n<text text-anchor=\"start\" x=\"14.5\" y=\"-248\" font-family=\"Linux libertine\" font-size=\"10.00\">ReLU</text>\n<text text-anchor=\"start\" x=\"5.5\" y=\"-237\" font-family=\"Linux libertine\" font-size=\"10.00\">depth:1</text>\n<polygon fill=\"none\" stroke=\"black\" points=\"53.5,-245 53.5,-266 112.5,-266 112.5,-245 53.5,-245\"/>\n<text text-anchor=\"start\" x=\"64.5\" y=\"-253\" font-family=\"Linux libertine\" font-size=\"10.00\">input:</text>\n<polygon fill=\"none\" stroke=\"black\" points=\"112.5,-245 112.5,-266 189.5,-266 189.5,-245 112.5,-245\"/>\n<text text-anchor=\"start\" x=\"117.5\" y=\"-253\" font-family=\"Linux libertine\" font-size=\"10.00\">(128, 128) </text>\n<polygon fill=\"none\" stroke=\"black\" points=\"53.5,-224 53.5,-245 112.5,-245 112.5,-224 53.5,-224\"/>\n<text text-anchor=\"start\" x=\"58.5\" y=\"-232\" font-family=\"Linux libertine\" font-size=\"10.00\">output: </text>\n<polygon fill=\"none\" stroke=\"black\" points=\"112.5,-224 112.5,-245 189.5,-245 189.5,-224 112.5,-224\"/>\n<text text-anchor=\"start\" x=\"117.5\" y=\"-232\" font-family=\"Linux libertine\" font-size=\"10.00\">(128, 128) </text>\n</g>\n<!-- 4&#45;&gt;5 -->\n<g id=\"edge5\" class=\"edge\">\n<title>4&#45;&gt;5</title>\n<path fill=\"none\" stroke=\"black\" d=\"M94.5,-301.63C94.5,-293.82 94.5,-284.73 94.5,-276.18\"/>\n<polygon fill=\"black\" stroke=\"black\" points=\"98,-276.16 94.5,-266.16 91,-276.16 98,-276.16\"/>\n</g>\n<!-- 6 -->\n<g id=\"node7\" class=\"node\">\n<title>6</title>\n<polygon fill=\"#c1ffc1\" stroke=\"transparent\" points=\"189,-188 0,-188 0,-146 189,-146 189,-188\"/>\n<polygon fill=\"none\" stroke=\"black\" points=\"0.5,-146 0.5,-188 53.5,-188 53.5,-146 0.5,-146\"/>\n<text text-anchor=\"start\" x=\"8.5\" y=\"-170\" font-family=\"Linux libertine\" font-size=\"10.00\">Linear</text>\n<text text-anchor=\"start\" x=\"5.5\" y=\"-159\" font-family=\"Linux libertine\" font-size=\"10.00\">depth:1</text>\n<polygon fill=\"none\" stroke=\"black\" points=\"53.5,-167 53.5,-188 112.5,-188 112.5,-167 53.5,-167\"/>\n<text text-anchor=\"start\" x=\"64.5\" y=\"-175\" font-family=\"Linux libertine\" font-size=\"10.00\">input:</text>\n<polygon fill=\"none\" stroke=\"black\" points=\"112.5,-167 112.5,-188 189.5,-188 189.5,-167 112.5,-167\"/>\n<text text-anchor=\"start\" x=\"117.5\" y=\"-175\" font-family=\"Linux libertine\" font-size=\"10.00\">(128, 128) </text>\n<polygon fill=\"none\" stroke=\"black\" points=\"53.5,-146 53.5,-167 112.5,-167 112.5,-146 53.5,-146\"/>\n<text text-anchor=\"start\" x=\"58.5\" y=\"-154\" font-family=\"Linux libertine\" font-size=\"10.00\">output: </text>\n<polygon fill=\"none\" stroke=\"black\" points=\"112.5,-146 112.5,-167 189.5,-167 189.5,-146 112.5,-146\"/>\n<text text-anchor=\"start\" x=\"120.5\" y=\"-154\" font-family=\"Linux libertine\" font-size=\"10.00\">(128, 10) </text>\n</g>\n<!-- 5&#45;&gt;6 -->\n<g id=\"edge6\" class=\"edge\">\n<title>5&#45;&gt;6</title>\n<path fill=\"none\" stroke=\"black\" d=\"M94.5,-223.63C94.5,-215.82 94.5,-206.73 94.5,-198.18\"/>\n<polygon fill=\"black\" stroke=\"black\" points=\"98,-198.16 94.5,-188.16 91,-198.16 98,-198.16\"/>\n</g>\n<!-- 7 -->\n<g id=\"node8\" class=\"node\">\n<title>7</title>\n<polygon fill=\"#c1ffc1\" stroke=\"transparent\" points=\"186,-110 3,-110 3,-68 186,-68 186,-110\"/>\n<polygon fill=\"none\" stroke=\"black\" points=\"3.5,-68 3.5,-110 56.5,-110 56.5,-68 3.5,-68\"/>\n<text text-anchor=\"start\" x=\"8.5\" y=\"-92\" font-family=\"Linux libertine\" font-size=\"10.00\">Softmax</text>\n<text text-anchor=\"start\" x=\"8.5\" y=\"-81\" font-family=\"Linux libertine\" font-size=\"10.00\">depth:1</text>\n<polygon fill=\"none\" stroke=\"black\" points=\"56.5,-89 56.5,-110 115.5,-110 115.5,-89 56.5,-89\"/>\n<text text-anchor=\"start\" x=\"67.5\" y=\"-97\" font-family=\"Linux libertine\" font-size=\"10.00\">input:</text>\n<polygon fill=\"none\" stroke=\"black\" points=\"115.5,-89 115.5,-110 186.5,-110 186.5,-89 115.5,-89\"/>\n<text text-anchor=\"start\" x=\"120.5\" y=\"-97\" font-family=\"Linux libertine\" font-size=\"10.00\">(128, 10) </text>\n<polygon fill=\"none\" stroke=\"black\" points=\"56.5,-68 56.5,-89 115.5,-89 115.5,-68 56.5,-68\"/>\n<text text-anchor=\"start\" x=\"61.5\" y=\"-76\" font-family=\"Linux libertine\" font-size=\"10.00\">output: </text>\n<polygon fill=\"none\" stroke=\"black\" points=\"115.5,-68 115.5,-89 186.5,-89 186.5,-68 115.5,-68\"/>\n<text text-anchor=\"start\" x=\"120.5\" y=\"-76\" font-family=\"Linux libertine\" font-size=\"10.00\">(128, 10) </text>\n</g>\n<!-- 6&#45;&gt;7 -->\n<g id=\"edge7\" class=\"edge\">\n<title>6&#45;&gt;7</title>\n<path fill=\"none\" stroke=\"black\" d=\"M94.5,-145.63C94.5,-137.82 94.5,-128.73 94.5,-120.18\"/>\n<polygon fill=\"black\" stroke=\"black\" points=\"98,-120.16 94.5,-110.16 91,-120.16 98,-120.16\"/>\n</g>\n<!-- 8 -->\n<g id=\"node9\" class=\"node\">\n<title>8</title>\n<polygon fill=\"lightyellow\" stroke=\"transparent\" points=\"171.5,-32 17.5,-32 17.5,0 171.5,0 171.5,-32\"/>\n<polygon fill=\"none\" stroke=\"black\" points=\"17.5,0 17.5,-32 106.5,-32 106.5,0 17.5,0\"/>\n<text text-anchor=\"start\" x=\"22.5\" y=\"-19\" font-family=\"Linux libertine\" font-size=\"10.00\">output&#45;tensor</text>\n<text text-anchor=\"start\" x=\"40.5\" y=\"-8\" font-family=\"Linux libertine\" font-size=\"10.00\">depth:0</text>\n<polygon fill=\"none\" stroke=\"black\" points=\"106.5,0 106.5,-32 171.5,-32 171.5,0 106.5,0\"/>\n<text text-anchor=\"start\" x=\"111.5\" y=\"-13.5\" font-family=\"Linux libertine\" font-size=\"10.00\">(128, 10)</text>\n</g>\n<!-- 7&#45;&gt;8 -->\n<g id=\"edge8\" class=\"edge\">\n<title>7&#45;&gt;8</title>\n<path fill=\"none\" stroke=\"black\" d=\"M94.5,-67.84C94.5,-59.89 94.5,-50.66 94.5,-42.26\"/>\n<polygon fill=\"black\" stroke=\"black\" points=\"98,-42.24 94.5,-32.24 91,-42.24 98,-42.24\"/>\n</g>\n</g>\n</svg>\n",
            "text/plain": [
              "<graphviz.graphs.Digraph at 0x7a884a216b30>"
            ]
          },
          "metadata": {},
          "execution_count": 138
        }
      ]
    },
    {
      "cell_type": "markdown",
      "source": [
        "### 5. 학습한 모델로 예측\n",
        "\n",
        "- 학습한 model을 가지고 test data를 예측합니다.\n",
        "\n",
        "- 예측 성능을 높이는 것이 학습의 목표이기 때문에, 학습되는 상황과 비교하여 잘 나오는 것을 확인해야 합니다.\n",
        "\n",
        "\n",
        "- 예측도 직접 구현하여 확인할 수 있습니다."
      ],
      "metadata": {
        "id": "xm0uodDi3jj_"
      }
    },
    {
      "cell_type": "code",
      "source": [
        "dataiter = iter(testloader)\n",
        "images, labels = next(dataiter)\n",
        "images.shape, labels.shape"
      ],
      "metadata": {
        "id": "lYJ3RmN6zndo",
        "colab": {
          "base_uri": "https://localhost:8080/"
        },
        "outputId": "2552b692-c116-483e-8ffa-c7e375b151f9"
      },
      "execution_count": null,
      "outputs": [
        {
          "output_type": "execute_result",
          "data": {
            "text/plain": [
              "(torch.Size([128, 1, 28, 28]), torch.Size([128]))"
            ]
          },
          "metadata": {},
          "execution_count": 139
        }
      ]
    },
    {
      "cell_type": "code",
      "source": [
        "# 예측 연산은 출력된 결과값중에서 argmax를 찾는 방식으로 수행됩니다.\n",
        "outputs = model(images.to(device))\n",
        "preds = torch.max(outputs, dim=1)[1]\n",
        "len(preds)\n",
        "#outputs.shape # 4장의 데이터에 대해서 10개 숫자.\n",
        "\n",
        "# or\n",
        "print(\"Predicted: \", ' '.join(f'{classes[preds[j]]}' for j in range(batch_size)))"
      ],
      "metadata": {
        "id": "dm3Emi7G43gq",
        "colab": {
          "base_uri": "https://localhost:8080/"
        },
        "outputId": "99c84991-05db-4120-cead-a864ecbb5aa2"
      },
      "execution_count": null,
      "outputs": [
        {
          "output_type": "stream",
          "name": "stdout",
          "text": [
            "Predicted:  7 2 1 0 4 1 4 9 6 9 0 6 9 0 1 5 9 7 3 4 9 6 6 5 4 0 7 4 0 1 3 1 3 6 7 2 7 1 3 1 1 7 4 2 3 5 1 2 4 4 6 3 5 5 6 0 4 1 9 5 7 8 9 3 7 4 6 4 3 0 7 0 2 9 1 7 3 7 9 7 7 6 2 7 8 4 7 3 6 1 3 6 9 3 1 4 1 7 6 9 6 0 5 4 9 9 2 1 9 4 8 7 3 9 7 4 4 4 9 2 5 4 7 6 4 9 0 5\n"
          ]
        }
      ]
    },
    {
      "cell_type": "code",
      "source": [
        "# make prediction for each class\n",
        "correct_pred = {classname: 0 for classname in classes}\n",
        "total_pred = {classname: 0 for classname in classes}\n",
        "\n",
        "# weight update를 하지 않는 모드\n",
        "with torch.no_grad():\n",
        "  correct_sum = 0\n",
        "  loss_sum = 0\n",
        "  for idx, data in enumerate(testloader):\n",
        "    x, labels = data[0].to(device), data[1].to(device)\n",
        "\n",
        "    outputs = model(x)\n",
        "    preds = torch.max(outputs, dim=1)[1]\n",
        "    correct_sum += (preds == labels).sum()\n",
        "    loss_sum += criterion(outputs, labels)\n",
        "\n",
        "    for label, pred in zip(labels, preds):\n",
        "      total_pred[label.item()] +=  1\n",
        "      if label == pred:\n",
        "        correct_pred[label.item()] += 1\n",
        "\n",
        "  print(f'accuracy : {correct_sum/len(testset)}, loss : {loss_sum/len(testloader)}')\n",
        "\n",
        "\n",
        "\n",
        "\n",
        "for classname, correct_count in correct_pred.items():\n",
        "    accuracy = 100 * float(correct_count) / total_pred[classname]\n",
        "    print(f\"Accuracy for class: {classname:5} is {accuracy:.1f} %, size : {total_pred[classname]}\")"
      ],
      "metadata": {
        "id": "MEmb_c0-5052",
        "colab": {
          "base_uri": "https://localhost:8080/"
        },
        "outputId": "908ba825-f5e3-4db0-e47a-0fffb0842eb5"
      },
      "execution_count": null,
      "outputs": [
        {
          "output_type": "stream",
          "name": "stdout",
          "text": [
            "accuracy : 0.9251999855041504, loss : 1.5420864820480347\n",
            "Accuracy for class:     0 is 97.6 %, size : 980\n",
            "Accuracy for class:     1 is 97.8 %, size : 1135\n",
            "Accuracy for class:     2 is 91.4 %, size : 1032\n",
            "Accuracy for class:     3 is 94.6 %, size : 1010\n",
            "Accuracy for class:     4 is 92.3 %, size : 982\n",
            "Accuracy for class:     5 is 85.2 %, size : 892\n",
            "Accuracy for class:     6 is 96.3 %, size : 958\n",
            "Accuracy for class:     7 is 94.2 %, size : 1028\n",
            "Accuracy for class:     8 is 85.6 %, size : 974\n",
            "Accuracy for class:     9 is 88.9 %, size : 1009\n"
          ]
        }
      ]
    },
    {
      "cell_type": "code",
      "source": [
        "len(testset)"
      ],
      "metadata": {
        "colab": {
          "base_uri": "https://localhost:8080/"
        },
        "id": "XpP0GfzqfT3L",
        "outputId": "c8ce09cc-bc6a-4b83-816f-a3b4374ce8ea"
      },
      "execution_count": null,
      "outputs": [
        {
          "output_type": "execute_result",
          "data": {
            "text/plain": [
              "10000"
            ]
          },
          "metadata": {},
          "execution_count": 115
        }
      ]
    },
    {
      "cell_type": "code",
      "source": [
        "sum([class_[1] for class_ in correct_pred.items()]) / 10000 * 100"
      ],
      "metadata": {
        "id": "Xsbrmyy2222V",
        "colab": {
          "base_uri": "https://localhost:8080/"
        },
        "outputId": "049491a0-1eb9-49e0-9e49-2ad1df7186b4"
      },
      "execution_count": null,
      "outputs": [
        {
          "output_type": "execute_result",
          "data": {
            "text/plain": [
              "92.52"
            ]
          },
          "metadata": {},
          "execution_count": 116
        }
      ]
    },
    {
      "cell_type": "markdown",
      "source": [
        "### Go Further?\n",
        "\n",
        "- GPU를 켜서 수행해봅시다.\n",
        "\n",
        "\n",
        "- 사실 딥러닝을 할 때는 무조건 GPU를 사용합니다.\n",
        "\n",
        "\n",
        "- pytorch에서 GPU를 사용하기 위해서는 device를 정의한 후, device에 연산에 필요한 모델, 데이터를 보내는 것으로 자동으로 GPU acceleration이 일어나게 만듭니다.\n",
        "\n",
        "\n",
        "- **.to(device)** 로 해당 모델과 데이터를 GPU로 보낼 수 있습니다."
      ],
      "metadata": {
        "id": "2dZW-jLQ6rNf"
      }
    },
    {
      "cell_type": "code",
      "source": [
        "# cuda가 있다는건 nvidia GPU가 있는 session을 쓰고 있다는 뜻.\n"
      ],
      "metadata": {
        "id": "PfAf4rt26mC2"
      },
      "execution_count": null,
      "outputs": []
    },
    {
      "cell_type": "code",
      "source": [],
      "metadata": {
        "id": "Sroe93mjpVE9"
      },
      "execution_count": null,
      "outputs": []
    }
  ]
}